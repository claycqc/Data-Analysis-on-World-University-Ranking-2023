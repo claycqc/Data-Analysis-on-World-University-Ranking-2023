{
 "cells": [
  {
   "cell_type": "markdown",
   "id": "4b141704-daca-411f-a9da-04e492afc113",
   "metadata": {},
   "source": [
    "# Part A: Exploratory Data Analysis"
   ]
  },
  {
   "cell_type": "markdown",
   "id": "dd8f54b5",
   "metadata": {},
   "source": [
    "## I Properties of the dataset"
   ]
  },
  {
   "cell_type": "code",
   "execution_count": 1,
   "id": "79dc100c-f4db-43ec-b281-a9b630b4c5a5",
   "metadata": {
    "tags": []
   },
   "outputs": [],
   "source": [
    "# Pandas and numpy for data manipulation\n",
    "import pandas as pd\n",
    "import numpy as np\n",
    "np.random.seed(123)\n",
    "# Matplotlib and seaborn for plotting\n",
    "import matplotlib.pyplot as plt\n",
    "%matplotlib inline\n",
    "import matplotlib\n",
    "matplotlib.rcParams['font.size'] = 8\n",
    "matplotlib.rcParams['figure.figsize'] = (5, 5)\n",
    "import seaborn as sns\n",
    "from IPython.core.pylabtools import figsize\n",
    "# Scipy helper functions\n",
    "import scipy\n",
    "from scipy.stats import percentileofscore\n",
    "from scipy import stats"
   ]
  },
  {
   "cell_type": "code",
   "execution_count": 2,
   "id": "ea10b1e8-190f-48c1-aa14-74aff110ab30",
   "metadata": {
    "tags": []
   },
   "outputs": [],
   "source": [
    "# Load the dataset\n",
    "data = pd.read_csv(\"world-university-rankings-2023.csv\")"
   ]
  },
  {
   "cell_type": "code",
   "execution_count": 3,
   "id": "af3fb719",
   "metadata": {},
   "outputs": [
    {
     "data": {
      "text/plain": [
       "(2341, 13)"
      ]
     },
     "execution_count": 3,
     "metadata": {},
     "output_type": "execute_result"
    }
   ],
   "source": [
    "# Check data shape\n",
    "data.shape"
   ]
  },
  {
   "cell_type": "code",
   "execution_count": 4,
   "id": "83efeb53-b97f-4a8a-af05-d68d7c117334",
   "metadata": {
    "scrolled": true,
    "tags": []
   },
   "outputs": [
    {
     "data": {
      "text/markdown": [
       "<h4 style=\"text-align:center;\"> Figure 1: Top 5 Rows of the Dataset</h2>"
      ],
      "text/plain": [
       "<IPython.core.display.Markdown object>"
      ]
     },
     "metadata": {},
     "output_type": "display_data"
    },
    {
     "data": {
      "text/html": [
       "<div>\n",
       "<style scoped>\n",
       "    .dataframe tbody tr th:only-of-type {\n",
       "        vertical-align: middle;\n",
       "    }\n",
       "\n",
       "    .dataframe tbody tr th {\n",
       "        vertical-align: top;\n",
       "    }\n",
       "\n",
       "    .dataframe thead th {\n",
       "        text-align: right;\n",
       "    }\n",
       "</style>\n",
       "<table border=\"1\" class=\"dataframe\">\n",
       "  <thead>\n",
       "    <tr style=\"text-align: right;\">\n",
       "      <th></th>\n",
       "      <th>University Rank</th>\n",
       "      <th>Name of University</th>\n",
       "      <th>Location</th>\n",
       "      <th>No of student</th>\n",
       "      <th>No of student per staff</th>\n",
       "      <th>International Student</th>\n",
       "      <th>Female:Male Ratio</th>\n",
       "      <th>OverAll Score</th>\n",
       "      <th>Teaching Score</th>\n",
       "      <th>Research Score</th>\n",
       "      <th>Citations Score</th>\n",
       "      <th>Industry Income Score</th>\n",
       "      <th>International Outlook Score</th>\n",
       "    </tr>\n",
       "  </thead>\n",
       "  <tbody>\n",
       "    <tr>\n",
       "      <th>0</th>\n",
       "      <td>1</td>\n",
       "      <td>University of Oxford</td>\n",
       "      <td>United Kingdom</td>\n",
       "      <td>20,965</td>\n",
       "      <td>10.6</td>\n",
       "      <td>42%</td>\n",
       "      <td>48:52:00</td>\n",
       "      <td>96.4</td>\n",
       "      <td>92.3</td>\n",
       "      <td>99.7</td>\n",
       "      <td>99.0</td>\n",
       "      <td>74.9</td>\n",
       "      <td>96.2</td>\n",
       "    </tr>\n",
       "    <tr>\n",
       "      <th>1</th>\n",
       "      <td>2</td>\n",
       "      <td>Harvard University</td>\n",
       "      <td>United States</td>\n",
       "      <td>21,887</td>\n",
       "      <td>9.6</td>\n",
       "      <td>25%</td>\n",
       "      <td>50:50:00</td>\n",
       "      <td>95.2</td>\n",
       "      <td>94.8</td>\n",
       "      <td>99.0</td>\n",
       "      <td>99.3</td>\n",
       "      <td>49.5</td>\n",
       "      <td>80.5</td>\n",
       "    </tr>\n",
       "    <tr>\n",
       "      <th>2</th>\n",
       "      <td>3</td>\n",
       "      <td>University of Cambridge</td>\n",
       "      <td>United Kingdom</td>\n",
       "      <td>20,185</td>\n",
       "      <td>11.3</td>\n",
       "      <td>39%</td>\n",
       "      <td>47:53:00</td>\n",
       "      <td>94.8</td>\n",
       "      <td>90.9</td>\n",
       "      <td>99.5</td>\n",
       "      <td>97.0</td>\n",
       "      <td>54.2</td>\n",
       "      <td>95.8</td>\n",
       "    </tr>\n",
       "    <tr>\n",
       "      <th>3</th>\n",
       "      <td>3</td>\n",
       "      <td>Stanford University</td>\n",
       "      <td>United States</td>\n",
       "      <td>16,164</td>\n",
       "      <td>7.1</td>\n",
       "      <td>24%</td>\n",
       "      <td>46:54:00</td>\n",
       "      <td>94.8</td>\n",
       "      <td>94.2</td>\n",
       "      <td>96.7</td>\n",
       "      <td>99.8</td>\n",
       "      <td>65.0</td>\n",
       "      <td>79.8</td>\n",
       "    </tr>\n",
       "    <tr>\n",
       "      <th>4</th>\n",
       "      <td>5</td>\n",
       "      <td>Massachusetts Institute of Technology</td>\n",
       "      <td>United States</td>\n",
       "      <td>11,415</td>\n",
       "      <td>8.2</td>\n",
       "      <td>33%</td>\n",
       "      <td>40 : 60</td>\n",
       "      <td>94.2</td>\n",
       "      <td>90.7</td>\n",
       "      <td>93.6</td>\n",
       "      <td>99.8</td>\n",
       "      <td>90.9</td>\n",
       "      <td>89.3</td>\n",
       "    </tr>\n",
       "  </tbody>\n",
       "</table>\n",
       "</div>"
      ],
      "text/plain": [
       "  University Rank                     Name of University        Location  \\\n",
       "0               1                   University of Oxford  United Kingdom   \n",
       "1               2                     Harvard University   United States   \n",
       "2               3                University of Cambridge  United Kingdom   \n",
       "3               3                    Stanford University   United States   \n",
       "4               5  Massachusetts Institute of Technology   United States   \n",
       "\n",
       "  No of student  No of student per staff International Student  \\\n",
       "0        20,965                     10.6                   42%   \n",
       "1        21,887                      9.6                   25%   \n",
       "2        20,185                     11.3                   39%   \n",
       "3        16,164                      7.1                   24%   \n",
       "4        11,415                      8.2                   33%   \n",
       "\n",
       "  Female:Male Ratio OverAll Score  Teaching Score  Research Score  \\\n",
       "0          48:52:00          96.4            92.3            99.7   \n",
       "1          50:50:00          95.2            94.8            99.0   \n",
       "2          47:53:00          94.8            90.9            99.5   \n",
       "3          46:54:00          94.8            94.2            96.7   \n",
       "4           40 : 60          94.2            90.7            93.6   \n",
       "\n",
       "   Citations Score  Industry Income Score  International Outlook Score  \n",
       "0             99.0                   74.9                         96.2  \n",
       "1             99.3                   49.5                         80.5  \n",
       "2             97.0                   54.2                         95.8  \n",
       "3             99.8                   65.0                         79.8  \n",
       "4             99.8                   90.9                         89.3  "
      ]
     },
     "metadata": {},
     "output_type": "display_data"
    }
   ],
   "source": [
    "# Display the first few rows of the dataset\n",
    "data.head()\n",
    "\n",
    "from IPython.display import display, Markdown\n",
    "\n",
    "# Display the title centered\n",
    "display(Markdown('<h4 style=\"text-align:center;\"> Figure 1: Top 5 Rows of the Dataset</h2>'))\n",
    "\n",
    "# Display the first few rows of the dataset as a table\n",
    "display(data.head())"
   ]
  },
  {
   "cell_type": "code",
   "execution_count": 5,
   "id": "c4aa3b2d",
   "metadata": {},
   "outputs": [
    {
     "name": "stdout",
     "output_type": "stream",
     "text": [
      "University Rank                 object\n",
      "Name of University              object\n",
      "Location                        object\n",
      "No of student                   object\n",
      "No of student per staff        float64\n",
      "International Student           object\n",
      "Female:Male Ratio               object\n",
      "OverAll Score                   object\n",
      "Teaching Score                 float64\n",
      "Research Score                 float64\n",
      "Citations Score                float64\n",
      "Industry Income Score          float64\n",
      "International Outlook Score    float64\n",
      "dtype: object\n"
     ]
    }
   ],
   "source": [
    "# Display the data types of each column\n",
    "print(data.dtypes)"
   ]
  },
  {
   "cell_type": "code",
   "execution_count": 6,
   "id": "b27b6ff8",
   "metadata": {
    "scrolled": true
   },
   "outputs": [
    {
     "data": {
      "text/markdown": [
       "<h4 style=\"text-align:  left;\">      Figure 2: Column Types of the Dataset</h2>"
      ],
      "text/plain": [
       "<IPython.core.display.Markdown object>"
      ]
     },
     "metadata": {},
     "output_type": "display_data"
    },
    {
     "name": "stdout",
     "output_type": "stream",
     "text": [
      "╒═════════════════════════════╤═════════════╕\n",
      "│ Column Name                 │ Data Type   │\n",
      "╞═════════════════════════════╪═════════════╡\n",
      "│ University Rank             │ object      │\n",
      "├─────────────────────────────┼─────────────┤\n",
      "│ Name of University          │ object      │\n",
      "├─────────────────────────────┼─────────────┤\n",
      "│ Location                    │ object      │\n",
      "├─────────────────────────────┼─────────────┤\n",
      "│ No of student               │ object      │\n",
      "├─────────────────────────────┼─────────────┤\n",
      "│ No of student per staff     │ float64     │\n",
      "├─────────────────────────────┼─────────────┤\n",
      "│ International Student       │ object      │\n",
      "├─────────────────────────────┼─────────────┤\n",
      "│ Female:Male Ratio           │ object      │\n",
      "├─────────────────────────────┼─────────────┤\n",
      "│ OverAll Score               │ object      │\n",
      "├─────────────────────────────┼─────────────┤\n",
      "│ Teaching Score              │ float64     │\n",
      "├─────────────────────────────┼─────────────┤\n",
      "│ Research Score              │ float64     │\n",
      "├─────────────────────────────┼─────────────┤\n",
      "│ Citations Score             │ float64     │\n",
      "├─────────────────────────────┼─────────────┤\n",
      "│ Industry Income Score       │ float64     │\n",
      "├─────────────────────────────┼─────────────┤\n",
      "│ International Outlook Score │ float64     │\n",
      "╘═════════════════════════════╧═════════════╛\n"
     ]
    }
   ],
   "source": [
    "from tabulate import tabulate\n",
    "from IPython.display import Markdown, display\n",
    "\n",
    "# Create a dictionary with column names and their data types\n",
    "data_types_dict = dict(data.dtypes)\n",
    "\n",
    "# Convert the dictionary to a list of tuples\n",
    "data_types_list = list(data_types_dict.items())\n",
    "\n",
    "# Display the title centered\n",
    "display(Markdown('<h4 style=\"text-align:  left;\">      Figure 2: Column Types of the Dataset</h2>'))\n",
    "\n",
    "# Display the table using tabulate\n",
    "table = tabulate(data_types_list, headers=['Column Name', 'Data Type'], tablefmt='fancy_grid')\n",
    "print(table)"
   ]
  },
  {
   "cell_type": "markdown",
   "id": "64721a6b",
   "metadata": {},
   "source": [
    "## II Anomalies of the dataset"
   ]
  },
  {
   "cell_type": "code",
   "execution_count": 7,
   "id": "b0655276",
   "metadata": {
    "scrolled": true
   },
   "outputs": [
    {
     "name": "stdout",
     "output_type": "stream",
     "text": [
      "Missing Values:\n",
      " University Rank                  0\n",
      "Name of University             108\n",
      "Location                       294\n",
      "No of student                  132\n",
      "No of student per staff        133\n",
      "International Student          132\n",
      "Female:Male Ratio              213\n",
      "OverAll Score                  542\n",
      "Teaching Score                 542\n",
      "Research Score                 542\n",
      "Citations Score                542\n",
      "Industry Income Score          542\n",
      "International Outlook Score    542\n",
      "dtype: int64\n"
     ]
    },
    {
     "data": {
      "image/png": "[encoded data removed]",
      "text/plain": [
       "<Figure size 1000x600 with 1 Axes>"
      ]
     },
     "metadata": {},
     "output_type": "display_data"
    }
   ],
   "source": [
    "import pandas as pd\n",
    "\n",
    "# Assuming 'data' is your DataFrame\n",
    "missing_values = data.isnull().sum()\n",
    "print(\"Missing Values:\\n\", missing_values)\n",
    "\n",
    "# Visualize missing values using a heatmap\n",
    "import seaborn as sns\n",
    "import matplotlib.pyplot as plt\n",
    "\n",
    "plt.figure(figsize=(10, 6))\n",
    "sns.heatmap(data.isnull(), cmap='viridis', cbar=False)\n",
    "\n",
    "# Rotate x-axis labels\n",
    "plt.xticks(rotation=45, ha='right')\n",
    "\n",
    "plt.title('Figuer 3: Missing Values Heatmap')\n",
    "plt.show()"
   ]
  },
  {
   "cell_type": "code",
   "execution_count": 8,
   "id": "2e94f561",
   "metadata": {},
   "outputs": [
    {
     "data": {
      "text/plain": [
       "(1488, 13)"
      ]
     },
     "execution_count": 8,
     "metadata": {},
     "output_type": "execute_result"
    }
   ],
   "source": [
    "# remove missing values\n",
    "data=data.dropna()\n",
    "data.shape"
   ]
  },
  {
   "cell_type": "code",
   "execution_count": 9,
   "id": "6625947d",
   "metadata": {},
   "outputs": [],
   "source": [
    "# change the datatype of the \"No of Student\"\n",
    "data['No of student'] = data['No of student'].str.replace(',', '').astype(int) \n",
    "\n",
    "# change the datatype of the \"International Student\"\n",
    "data['International Student'] = data['International Student'].str.replace('%', ' ')\n",
    "data['International Student'] = pd.to_numeric(data['International Student'], errors='coerce')\n",
    "data['International Student']=  data['International Student']/100"
   ]
  },
  {
   "cell_type": "code",
   "execution_count": 10,
   "id": "ef30ed67",
   "metadata": {},
   "outputs": [
    {
     "name": "stdout",
     "output_type": "stream",
     "text": [
      "Error: invalid literal for int() with base 10: '201–250'\n",
      "Printing values causing the error:\n",
      "199     201–250\n",
      "200     201–250\n",
      "201     201–250\n",
      "202     201–250\n",
      "204     201–250\n",
      "         ...   \n",
      "1692      1501+\n",
      "1693      1501+\n",
      "1694      1501+\n",
      "1695      1501+\n",
      "1696      1501+\n",
      "Name: University Rank, Length: 1352, dtype: object\n"
     ]
    }
   ],
   "source": [
    "import pandas as pd\n",
    "\n",
    "# change the datatype of the \"University Rank\"\n",
    "try:\n",
    "    data['University Rank'] = data['University Rank'].astype(int)\n",
    "except ValueError as e:\n",
    "    print(f\"Error: {e}\")\n",
    "    print(\"Printing values causing the error:\")\n",
    "    problematic_values = data.loc[~data['University Rank'].astype(str).str.isdigit(), 'University Rank']\n",
    "    print(problematic_values)"
   ]
  },
  {
   "cell_type": "code",
   "execution_count": 11,
   "id": "576a4c2e",
   "metadata": {
    "scrolled": true
   },
   "outputs": [
    {
     "name": "stdout",
     "output_type": "stream",
     "text": [
      "Error: invalid literal for int() with base 10: '96.4'\n",
      "Printing values causing the error:\n",
      "199     201–250\n",
      "200     201–250\n",
      "201     201–250\n",
      "202     201–250\n",
      "204     201–250\n",
      "         ...   \n",
      "1692      1501+\n",
      "1693      1501+\n",
      "1694      1501+\n",
      "1695      1501+\n",
      "1696      1501+\n",
      "Name: University Rank, Length: 1352, dtype: object\n"
     ]
    }
   ],
   "source": [
    "import pandas as pd\n",
    "\n",
    "# change the datatype of the \"OverAll Score\"\n",
    "try:\n",
    "    data['OverAll Score'] = data['OverAll Score'].astype(int)\n",
    "except ValueError as e:\n",
    "    print(f\"Error: {e}\")\n",
    "    print(\"Printing values causing the error:\")\n",
    "    problematic_values = data.loc[~data['University Rank'].astype(str).str.isdigit(), 'University Rank']\n",
    "    print(problematic_values)"
   ]
  },
  {
   "cell_type": "code",
   "execution_count": 12,
   "id": "39f7ee53",
   "metadata": {},
   "outputs": [
    {
     "data": {
      "text/markdown": [
       "<h4 style=\"text-align:center;\"> Figure 4: Rows 200-205 of the Dataset</h2>"
      ],
      "text/plain": [
       "<IPython.core.display.Markdown object>"
      ]
     },
     "metadata": {},
     "output_type": "display_data"
    },
    {
     "data": {
      "text/html": [
       "<div>\n",
       "<style scoped>\n",
       "    .dataframe tbody tr th:only-of-type {\n",
       "        vertical-align: middle;\n",
       "    }\n",
       "\n",
       "    .dataframe tbody tr th {\n",
       "        vertical-align: top;\n",
       "    }\n",
       "\n",
       "    .dataframe thead th {\n",
       "        text-align: right;\n",
       "    }\n",
       "</style>\n",
       "<table border=\"1\" class=\"dataframe\">\n",
       "  <thead>\n",
       "    <tr style=\"text-align: right;\">\n",
       "      <th></th>\n",
       "      <th>University Rank</th>\n",
       "      <th>Name of University</th>\n",
       "      <th>Location</th>\n",
       "      <th>No of student</th>\n",
       "      <th>No of student per staff</th>\n",
       "      <th>International Student</th>\n",
       "      <th>Female:Male Ratio</th>\n",
       "      <th>OverAll Score</th>\n",
       "      <th>Teaching Score</th>\n",
       "      <th>Research Score</th>\n",
       "      <th>Citations Score</th>\n",
       "      <th>Industry Income Score</th>\n",
       "      <th>International Outlook Score</th>\n",
       "    </tr>\n",
       "  </thead>\n",
       "  <tbody>\n",
       "    <tr>\n",
       "      <th>286</th>\n",
       "      <td>251–300</td>\n",
       "      <td>University of Sharjah</td>\n",
       "      <td>United Arab Emirates</td>\n",
       "      <td>12933</td>\n",
       "      <td>19.2</td>\n",
       "      <td>0.55</td>\n",
       "      <td>67:33:00</td>\n",
       "      <td>48.9–51.1</td>\n",
       "      <td>20.5</td>\n",
       "      <td>21.3</td>\n",
       "      <td>96.8</td>\n",
       "      <td>41.4</td>\n",
       "      <td>99.3</td>\n",
       "    </tr>\n",
       "    <tr>\n",
       "      <th>288</th>\n",
       "      <td>251–300</td>\n",
       "      <td>University of Southern Denmark</td>\n",
       "      <td>Denmark</td>\n",
       "      <td>18471</td>\n",
       "      <td>10.2</td>\n",
       "      <td>0.14</td>\n",
       "      <td>53:47:00</td>\n",
       "      <td>48.9–51.1</td>\n",
       "      <td>24.7</td>\n",
       "      <td>32.4</td>\n",
       "      <td>85.3</td>\n",
       "      <td>72.3</td>\n",
       "      <td>78.9</td>\n",
       "    </tr>\n",
       "    <tr>\n",
       "      <th>290</th>\n",
       "      <td>251–300</td>\n",
       "      <td>Sun Yat-sen University</td>\n",
       "      <td>China</td>\n",
       "      <td>57951</td>\n",
       "      <td>15.1</td>\n",
       "      <td>0.05</td>\n",
       "      <td>49:51:00</td>\n",
       "      <td>48.9–51.1</td>\n",
       "      <td>44.9</td>\n",
       "      <td>37.4</td>\n",
       "      <td>74.8</td>\n",
       "      <td>59.3</td>\n",
       "      <td>31.3</td>\n",
       "    </tr>\n",
       "    <tr>\n",
       "      <th>291</th>\n",
       "      <td>251–300</td>\n",
       "      <td>Swansea University</td>\n",
       "      <td>United Kingdom</td>\n",
       "      <td>17490</td>\n",
       "      <td>15.4</td>\n",
       "      <td>0.22</td>\n",
       "      <td>47:53:00</td>\n",
       "      <td>48.9–51.1</td>\n",
       "      <td>24.9</td>\n",
       "      <td>28.2</td>\n",
       "      <td>91.5</td>\n",
       "      <td>39.3</td>\n",
       "      <td>83.6</td>\n",
       "    </tr>\n",
       "    <tr>\n",
       "      <th>293</th>\n",
       "      <td>251–300</td>\n",
       "      <td>Tongji University</td>\n",
       "      <td>China</td>\n",
       "      <td>30153</td>\n",
       "      <td>10.8</td>\n",
       "      <td>0.12</td>\n",
       "      <td>46:54:00</td>\n",
       "      <td>48.9–51.1</td>\n",
       "      <td>43.4</td>\n",
       "      <td>52.3</td>\n",
       "      <td>46.1</td>\n",
       "      <td>97.8</td>\n",
       "      <td>53.1</td>\n",
       "    </tr>\n",
       "  </tbody>\n",
       "</table>\n",
       "</div>"
      ],
      "text/plain": [
       "    University Rank              Name of University              Location  \\\n",
       "286         251–300           University of Sharjah  United Arab Emirates   \n",
       "288         251–300  University of Southern Denmark               Denmark   \n",
       "290         251–300          Sun Yat-sen University                 China   \n",
       "291         251–300              Swansea University        United Kingdom   \n",
       "293         251–300               Tongji University                 China   \n",
       "\n",
       "     No of student  No of student per staff  International Student  \\\n",
       "286          12933                     19.2                   0.55   \n",
       "288          18471                     10.2                   0.14   \n",
       "290          57951                     15.1                   0.05   \n",
       "291          17490                     15.4                   0.22   \n",
       "293          30153                     10.8                   0.12   \n",
       "\n",
       "    Female:Male Ratio OverAll Score  Teaching Score  Research Score  \\\n",
       "286          67:33:00     48.9–51.1            20.5            21.3   \n",
       "288          53:47:00     48.9–51.1            24.7            32.4   \n",
       "290          49:51:00     48.9–51.1            44.9            37.4   \n",
       "291          47:53:00     48.9–51.1            24.9            28.2   \n",
       "293          46:54:00     48.9–51.1            43.4            52.3   \n",
       "\n",
       "     Citations Score  Industry Income Score  International Outlook Score  \n",
       "286             96.8                   41.4                         99.3  \n",
       "288             85.3                   72.3                         78.9  \n",
       "290             74.8                   59.3                         31.3  \n",
       "291             91.5                   39.3                         83.6  \n",
       "293             46.1                   97.8                         53.1  "
      ]
     },
     "metadata": {},
     "output_type": "display_data"
    }
   ],
   "source": [
    "# Display the title centered\n",
    "display(Markdown('<h4 style=\"text-align:center;\"> Figure 4: Rows 200-205 of the Dataset</h2>'))\n",
    "\n",
    "# Display the first few rows of the dataset as a table\n",
    "display(data.iloc[199:204, :])"
   ]
  },
  {
   "cell_type": "code",
   "execution_count": 13,
   "id": "74b686c9",
   "metadata": {
    "scrolled": true
   },
   "outputs": [
    {
     "data": {
      "text/html": [
       "<div>\n",
       "<style scoped>\n",
       "    .dataframe tbody tr th:only-of-type {\n",
       "        vertical-align: middle;\n",
       "    }\n",
       "\n",
       "    .dataframe tbody tr th {\n",
       "        vertical-align: top;\n",
       "    }\n",
       "\n",
       "    .dataframe thead th {\n",
       "        text-align: right;\n",
       "    }\n",
       "</style>\n",
       "<table border=\"1\" class=\"dataframe\">\n",
       "  <thead>\n",
       "    <tr style=\"text-align: right;\">\n",
       "      <th></th>\n",
       "      <th>University Rank</th>\n",
       "      <th>Name of University</th>\n",
       "      <th>Location</th>\n",
       "      <th>No of student</th>\n",
       "      <th>No of student per staff</th>\n",
       "      <th>International Student</th>\n",
       "      <th>Female:Male Ratio</th>\n",
       "      <th>OverAll Score</th>\n",
       "      <th>Teaching Score</th>\n",
       "      <th>Research Score</th>\n",
       "      <th>Citations Score</th>\n",
       "      <th>Industry Income Score</th>\n",
       "      <th>International Outlook Score</th>\n",
       "    </tr>\n",
       "  </thead>\n",
       "  <tbody>\n",
       "    <tr>\n",
       "      <th>0</th>\n",
       "      <td>1.0</td>\n",
       "      <td>University of Oxford</td>\n",
       "      <td>United Kingdom</td>\n",
       "      <td>20965</td>\n",
       "      <td>10.6</td>\n",
       "      <td>0.42</td>\n",
       "      <td>48:52:00</td>\n",
       "      <td>96.4</td>\n",
       "      <td>92.3</td>\n",
       "      <td>99.7</td>\n",
       "      <td>99.0</td>\n",
       "      <td>74.9</td>\n",
       "      <td>96.2</td>\n",
       "    </tr>\n",
       "    <tr>\n",
       "      <th>1</th>\n",
       "      <td>2.0</td>\n",
       "      <td>Harvard University</td>\n",
       "      <td>United States</td>\n",
       "      <td>21887</td>\n",
       "      <td>9.6</td>\n",
       "      <td>0.25</td>\n",
       "      <td>50:50:00</td>\n",
       "      <td>95.2</td>\n",
       "      <td>94.8</td>\n",
       "      <td>99.0</td>\n",
       "      <td>99.3</td>\n",
       "      <td>49.5</td>\n",
       "      <td>80.5</td>\n",
       "    </tr>\n",
       "    <tr>\n",
       "      <th>2</th>\n",
       "      <td>3.0</td>\n",
       "      <td>University of Cambridge</td>\n",
       "      <td>United Kingdom</td>\n",
       "      <td>20185</td>\n",
       "      <td>11.3</td>\n",
       "      <td>0.39</td>\n",
       "      <td>47:53:00</td>\n",
       "      <td>94.8</td>\n",
       "      <td>90.9</td>\n",
       "      <td>99.5</td>\n",
       "      <td>97.0</td>\n",
       "      <td>54.2</td>\n",
       "      <td>95.8</td>\n",
       "    </tr>\n",
       "    <tr>\n",
       "      <th>3</th>\n",
       "      <td>3.0</td>\n",
       "      <td>Stanford University</td>\n",
       "      <td>United States</td>\n",
       "      <td>16164</td>\n",
       "      <td>7.1</td>\n",
       "      <td>0.24</td>\n",
       "      <td>46:54:00</td>\n",
       "      <td>94.8</td>\n",
       "      <td>94.2</td>\n",
       "      <td>96.7</td>\n",
       "      <td>99.8</td>\n",
       "      <td>65.0</td>\n",
       "      <td>79.8</td>\n",
       "    </tr>\n",
       "    <tr>\n",
       "      <th>4</th>\n",
       "      <td>5.0</td>\n",
       "      <td>Massachusetts Institute of Technology</td>\n",
       "      <td>United States</td>\n",
       "      <td>11415</td>\n",
       "      <td>8.2</td>\n",
       "      <td>0.33</td>\n",
       "      <td>40 : 60</td>\n",
       "      <td>94.2</td>\n",
       "      <td>90.7</td>\n",
       "      <td>93.6</td>\n",
       "      <td>99.8</td>\n",
       "      <td>90.9</td>\n",
       "      <td>89.3</td>\n",
       "    </tr>\n",
       "  </tbody>\n",
       "</table>\n",
       "</div>"
      ],
      "text/plain": [
       "   University Rank                     Name of University        Location  \\\n",
       "0              1.0                   University of Oxford  United Kingdom   \n",
       "1              2.0                     Harvard University   United States   \n",
       "2              3.0                University of Cambridge  United Kingdom   \n",
       "3              3.0                    Stanford University   United States   \n",
       "4              5.0  Massachusetts Institute of Technology   United States   \n",
       "\n",
       "   No of student  No of student per staff  International Student  \\\n",
       "0          20965                     10.6                   0.42   \n",
       "1          21887                      9.6                   0.25   \n",
       "2          20185                     11.3                   0.39   \n",
       "3          16164                      7.1                   0.24   \n",
       "4          11415                      8.2                   0.33   \n",
       "\n",
       "  Female:Male Ratio OverAll Score  Teaching Score  Research Score  \\\n",
       "0          48:52:00          96.4            92.3            99.7   \n",
       "1          50:50:00          95.2            94.8            99.0   \n",
       "2          47:53:00          94.8            90.9            99.5   \n",
       "3          46:54:00          94.8            94.2            96.7   \n",
       "4           40 : 60          94.2            90.7            93.6   \n",
       "\n",
       "   Citations Score  Industry Income Score  International Outlook Score  \n",
       "0             99.0                   74.9                         96.2  \n",
       "1             99.3                   49.5                         80.5  \n",
       "2             97.0                   54.2                         95.8  \n",
       "3             99.8                   65.0                         79.8  \n",
       "4             99.8                   90.9                         89.3  "
      ]
     },
     "metadata": {},
     "output_type": "display_data"
    },
    {
     "data": {
      "text/html": [
       "<div>\n",
       "<style scoped>\n",
       "    .dataframe tbody tr th:only-of-type {\n",
       "        vertical-align: middle;\n",
       "    }\n",
       "\n",
       "    .dataframe tbody tr th {\n",
       "        vertical-align: top;\n",
       "    }\n",
       "\n",
       "    .dataframe thead th {\n",
       "        text-align: right;\n",
       "    }\n",
       "</style>\n",
       "<table border=\"1\" class=\"dataframe\">\n",
       "  <thead>\n",
       "    <tr style=\"text-align: right;\">\n",
       "      <th></th>\n",
       "      <th>University Rank</th>\n",
       "      <th>Name of University</th>\n",
       "      <th>Location</th>\n",
       "      <th>No of student</th>\n",
       "      <th>No of student per staff</th>\n",
       "      <th>International Student</th>\n",
       "      <th>Female:Male Ratio</th>\n",
       "      <th>OverAll Score</th>\n",
       "      <th>Teaching Score</th>\n",
       "      <th>Research Score</th>\n",
       "      <th>Citations Score</th>\n",
       "      <th>Industry Income Score</th>\n",
       "      <th>International Outlook Score</th>\n",
       "    </tr>\n",
       "  </thead>\n",
       "  <tbody>\n",
       "    <tr>\n",
       "      <th>192</th>\n",
       "      <td>194.0</td>\n",
       "      <td>Medical University of Vienna</td>\n",
       "      <td>Austria</td>\n",
       "      <td>7274</td>\n",
       "      <td>8.4</td>\n",
       "      <td>0.33</td>\n",
       "      <td>50:50:00</td>\n",
       "      <td>54.6</td>\n",
       "      <td>35.0</td>\n",
       "      <td>27.6</td>\n",
       "      <td>94.0</td>\n",
       "      <td>61.2</td>\n",
       "      <td>81.7</td>\n",
       "    </tr>\n",
       "    <tr>\n",
       "      <th>193</th>\n",
       "      <td>194.0</td>\n",
       "      <td>University of Miami</td>\n",
       "      <td>United States</td>\n",
       "      <td>17009</td>\n",
       "      <td>10.8</td>\n",
       "      <td>0.16</td>\n",
       "      <td>53:47:00</td>\n",
       "      <td>54.6</td>\n",
       "      <td>48.4</td>\n",
       "      <td>33.5</td>\n",
       "      <td>81.0</td>\n",
       "      <td>48.3</td>\n",
       "      <td>60.2</td>\n",
       "    </tr>\n",
       "    <tr>\n",
       "      <th>194</th>\n",
       "      <td>196.0</td>\n",
       "      <td>University of Erlangen-Nuremberg</td>\n",
       "      <td>Germany</td>\n",
       "      <td>30303</td>\n",
       "      <td>43.4</td>\n",
       "      <td>0.13</td>\n",
       "      <td>51:49:00</td>\n",
       "      <td>54.5</td>\n",
       "      <td>44.6</td>\n",
       "      <td>47.5</td>\n",
       "      <td>68.8</td>\n",
       "      <td>90.7</td>\n",
       "      <td>53.5</td>\n",
       "    </tr>\n",
       "    <tr>\n",
       "      <th>196</th>\n",
       "      <td>198.0</td>\n",
       "      <td>Durham University</td>\n",
       "      <td>United Kingdom</td>\n",
       "      <td>18425</td>\n",
       "      <td>14.1</td>\n",
       "      <td>0.35</td>\n",
       "      <td>54:46:00</td>\n",
       "      <td>54.4</td>\n",
       "      <td>40.0</td>\n",
       "      <td>44.6</td>\n",
       "      <td>70.0</td>\n",
       "      <td>39.4</td>\n",
       "      <td>94.3</td>\n",
       "    </tr>\n",
       "    <tr>\n",
       "      <th>198</th>\n",
       "      <td>198.0</td>\n",
       "      <td>University of Reading</td>\n",
       "      <td>United Kingdom</td>\n",
       "      <td>15720</td>\n",
       "      <td>16.4</td>\n",
       "      <td>0.32</td>\n",
       "      <td>56:44:00</td>\n",
       "      <td>54.4</td>\n",
       "      <td>36.5</td>\n",
       "      <td>39.6</td>\n",
       "      <td>78.5</td>\n",
       "      <td>42.2</td>\n",
       "      <td>93.3</td>\n",
       "    </tr>\n",
       "  </tbody>\n",
       "</table>\n",
       "</div>"
      ],
      "text/plain": [
       "     University Rank                Name of University        Location  \\\n",
       "192            194.0      Medical University of Vienna         Austria   \n",
       "193            194.0               University of Miami   United States   \n",
       "194            196.0  University of Erlangen-Nuremberg         Germany   \n",
       "196            198.0                 Durham University  United Kingdom   \n",
       "198            198.0             University of Reading  United Kingdom   \n",
       "\n",
       "     No of student  No of student per staff  International Student  \\\n",
       "192           7274                      8.4                   0.33   \n",
       "193          17009                     10.8                   0.16   \n",
       "194          30303                     43.4                   0.13   \n",
       "196          18425                     14.1                   0.35   \n",
       "198          15720                     16.4                   0.32   \n",
       "\n",
       "    Female:Male Ratio OverAll Score  Teaching Score  Research Score  \\\n",
       "192          50:50:00          54.6            35.0            27.6   \n",
       "193          53:47:00          54.6            48.4            33.5   \n",
       "194          51:49:00          54.5            44.6            47.5   \n",
       "196          54:46:00          54.4            40.0            44.6   \n",
       "198          56:44:00          54.4            36.5            39.6   \n",
       "\n",
       "     Citations Score  Industry Income Score  International Outlook Score  \n",
       "192             94.0                   61.2                         81.7  \n",
       "193             81.0                   48.3                         60.2  \n",
       "194             68.8                   90.7                         53.5  \n",
       "196             70.0                   39.4                         94.3  \n",
       "198             78.5                   42.2                         93.3  "
      ]
     },
     "metadata": {},
     "output_type": "display_data"
    }
   ],
   "source": [
    "# Assuming your DataFrame is named 'data_valid'\n",
    "\n",
    "# Convert 'University Rank' to numeric, replace non-numeric values with NaN\n",
    "data['University Rank'] = pd.to_numeric(data['University Rank'], errors='coerce')\n",
    "\n",
    "# Keep rows where 'University Rank' is less than 199\n",
    "data_valid = data[data['University Rank'] < 199]\n",
    "\n",
    "# Display the first few rows of the updated dataset\n",
    "display(data_valid.head())\n",
    "\n",
    "# Display the last few rows of the updated dataset\n",
    "display(data_valid.tail())"
   ]
  },
  {
   "cell_type": "code",
   "execution_count": 14,
   "id": "477924be",
   "metadata": {},
   "outputs": [
    {
     "name": "stdout",
     "output_type": "stream",
     "text": [
      "University Rank                float64\n",
      "Name of University              object\n",
      "Location                        object\n",
      "No of student                    int32\n",
      "No of student per staff        float64\n",
      "International Student          float64\n",
      "Female:Male Ratio               object\n",
      "OverAll Score                   object\n",
      "Teaching Score                 float64\n",
      "Research Score                 float64\n",
      "Citations Score                float64\n",
      "Industry Income Score          float64\n",
      "International Outlook Score    float64\n",
      "dtype: object\n"
     ]
    }
   ],
   "source": [
    "# Check the new data types 'data_valid'\n",
    "print(data_valid.dtypes)"
   ]
  },
  {
   "cell_type": "code",
   "execution_count": 15,
   "id": "2fa4a294",
   "metadata": {},
   "outputs": [
    {
     "name": "stderr",
     "output_type": "stream",
     "text": [
      "C:\\Users\\86188\\AppData\\Local\\Temp\\ipykernel_23928\\3979162172.py:5: DeprecationWarning: In a future version, `df.iloc[:, i] = newvals` will attempt to set the values inplace instead of always setting a new array. To retain the old behavior, use either `df[df.columns[i]] = newvals` or, if columns are non-unique, `df.isetitem(i, newvals)`\n",
      "  data_valid.loc[:, 'OverAll Score'] = data_valid['OverAll Score'].astype(float)\n"
     ]
    }
   ],
   "source": [
    "# Create a copy of the DataFrame\n",
    "data_valid = data_valid.copy()\n",
    "\n",
    "# Change the datatype of the \"OverAll Score\" column to float\n",
    "data_valid.loc[:, 'OverAll Score'] = data_valid['OverAll Score'].astype(float)"
   ]
  },
  {
   "cell_type": "code",
   "execution_count": 16,
   "id": "4c87a6f3",
   "metadata": {},
   "outputs": [
    {
     "name": "stdout",
     "output_type": "stream",
     "text": [
      "University Rank                float64\n",
      "Name of University              object\n",
      "Location                        object\n",
      "No of student                    int32\n",
      "No of student per staff        float64\n",
      "International Student          float64\n",
      "Female:Male Ratio               object\n",
      "OverAll Score                  float64\n",
      "Teaching Score                 float64\n",
      "Research Score                 float64\n",
      "Citations Score                float64\n",
      "Industry Income Score          float64\n",
      "International Outlook Score    float64\n",
      "dtype: object\n"
     ]
    }
   ],
   "source": [
    "# Check the new data types 'data_valid'\n",
    "print(data_valid.dtypes)"
   ]
  },
  {
   "cell_type": "markdown",
   "id": "7956533f",
   "metadata": {},
   "source": [
    "## III Patterns of the dataset"
   ]
  },
  {
   "cell_type": "code",
   "execution_count": 17,
   "id": "6b19b61f",
   "metadata": {},
   "outputs": [
    {
     "name": "stdout",
     "output_type": "stream",
     "text": [
      "<class 'pandas.core.frame.DataFrame'>\n",
      "Int64Index: 136 entries, 0 to 198\n",
      "Data columns (total 13 columns):\n",
      " #   Column                       Non-Null Count  Dtype  \n",
      "---  ------                       --------------  -----  \n",
      " 0   University Rank              136 non-null    float64\n",
      " 1   Name of University           136 non-null    object \n",
      " 2   Location                     136 non-null    object \n",
      " 3   No of student                136 non-null    int32  \n",
      " 4   No of student per staff      136 non-null    float64\n",
      " 5   International Student        136 non-null    float64\n",
      " 6   Female:Male Ratio            136 non-null    object \n",
      " 7   OverAll Score                136 non-null    float64\n",
      " 8   Teaching Score               136 non-null    float64\n",
      " 9   Research Score               136 non-null    float64\n",
      " 10  Citations Score              136 non-null    float64\n",
      " 11  Industry Income Score        136 non-null    float64\n",
      " 12  International Outlook Score  136 non-null    float64\n",
      "dtypes: float64(9), int32(1), object(3)\n",
      "memory usage: 14.3+ KB\n",
      "Unique values in Name of University: 136\n",
      "Unique values in Location: 21\n",
      "Unique values in Female:Male Ratio: 38\n",
      "Number of duplicate rows: 0\n"
     ]
    },
    {
     "data": {
      "image/png": "[encoded data removed]",
      "text/plain": [
       "<Figure size 1200x800 with 1 Axes>"
      ]
     },
     "metadata": {},
     "output_type": "display_data"
    }
   ],
   "source": [
    "# Import necessary libraries\n",
    "import pandas as pd\n",
    "import matplotlib.pyplot as plt\n",
    "import seaborn as sns\n",
    "\n",
    "# Display basic information about the dataset\n",
    "data_valid.info()\n",
    "\n",
    "# Summary statistics for numerical columns\n",
    "data_valid.describe()\n",
    "\n",
    "# Unique values in categorical columns\n",
    "for column in data_valid.select_dtypes(include='object').columns:\n",
    "    print(f\"Unique values in {column}: {data_valid[column].nunique()}\")\n",
    "\n",
    "# Check for duplicate rows\n",
    "duplicate_rows = data_valid[data_valid.duplicated()]\n",
    "print(f\"Number of duplicate rows: {len(duplicate_rows)}\")\n",
    "\n",
    "# Plot box plots for numerical columns\n",
    "plt.figure(figsize=(12, 8))\n",
    "sns.boxplot(data=data.select_dtypes(include=['float64', 'int64']), orient=\"h\", palette=\"Set2\")\n",
    "plt.title('Figure 5: Box Plots for Numerical Columns')\n",
    "plt.show()"
   ]
  },
  {
   "cell_type": "code",
   "execution_count": 18,
   "id": "ea135ecb",
   "metadata": {},
   "outputs": [
    {
     "name": "stderr",
     "output_type": "stream",
     "text": [
      "C:\\Users\\86188\\AppData\\Local\\Temp\\ipykernel_23928\\3881388765.py:1: FutureWarning: The default value of numeric_only in DataFrame.corr is deprecated. In a future version, it will default to False. Select only valid columns or specify the value of numeric_only to silence this warning.\n",
      "  corr_matrix = data_valid.corr()\n"
     ]
    },
    {
     "data": {
      "image/png": "[encoded data removed]",
      "text/plain": [
       "<Figure size 1000x800 with 2 Axes>"
      ]
     },
     "metadata": {},
     "output_type": "display_data"
    }
   ],
   "source": [
    "corr_matrix = data_valid.corr()\n",
    "plt.figure(figsize=(10, 8))\n",
    "sns.heatmap(corr_matrix, annot=True, cmap='coolwarm', linewidths=.5)\n",
    "plt.title('Figure 6: Correlation for Numerical Columns')\n",
    "plt.show()"
   ]
  },
  {
   "cell_type": "markdown",
   "id": "dff0c70a",
   "metadata": {},
   "source": [
    "## IV Relevancy of the dataset"
   ]
  },
  {
   "cell_type": "code",
   "execution_count": 19,
   "id": "8e3629ac",
   "metadata": {},
   "outputs": [
    {
     "data": {
      "image/png": "[encoded data removed]",
      "text/plain": [
       "<Figure size 1200x1000 with 2 Axes>"
      ]
     },
     "metadata": {},
     "output_type": "display_data"
    }
   ],
   "source": [
    "import seaborn as sns\n",
    "import matplotlib.pyplot as plt\n",
    "\n",
    "# Assuming your DataFrame is named 'data_valid'\n",
    "numeric_columns = data_valid.select_dtypes(include=['float', 'int']).columns\n",
    "corr_matrix = data_valid[numeric_columns].corr()\n",
    "\n",
    "plt.figure(figsize=(12, 10))\n",
    "sns.heatmap(corr_matrix[['University Rank']], annot=True, cmap='coolwarm', linewidths=.5)\n",
    "plt.title('Figure7: Correlation Heatmap with University Rank')\n",
    "plt.show()"
   ]
  },
  {
   "cell_type": "code",
   "execution_count": 20,
   "id": "b54b0be0",
   "metadata": {
    "scrolled": true
   },
   "outputs": [
    {
     "data": {
      "image/png": "[encoded data removed]",
      "text/plain": [
       "<Figure size 1200x800 with 1 Axes>"
      ]
     },
     "metadata": {},
     "output_type": "display_data"
    }
   ],
   "source": [
    "import matplotlib.pyplot as plt\n",
    "\n",
    "# Assuming your DataFrame is named 'data_valid'\n",
    "\n",
    "plt.figure(figsize=(12, 8))\n",
    "plt.scatter(data_valid['University Rank'], data_valid['No of student per staff'], alpha=0.5)\n",
    "plt.title('Figure 7: Number of Students vs University Rank')\n",
    "plt.xlabel('University Rank')\n",
    "plt.ylabel('Number of Students')\n",
    "plt.show()"
   ]
  },
  {
   "cell_type": "markdown",
   "id": "e16c6a85",
   "metadata": {},
   "source": [
    "# Part B: Predication Model Build and Evaluation"
   ]
  },
  {
   "cell_type": "markdown",
   "id": "b4016d32",
   "metadata": {},
   "source": [
    "## I Training & Testing Data Preparation"
   ]
  },
  {
   "cell_type": "code",
   "execution_count": 21,
   "id": "9379c251",
   "metadata": {
    "tags": []
   },
   "outputs": [
    {
     "name": "stdout",
     "output_type": "stream",
     "text": [
      "University Rank                float64\n",
      "Name of University              object\n",
      "Location                        object\n",
      "No of student                    int32\n",
      "No of student per staff        float64\n",
      "International Student          float64\n",
      "Female:Male Ratio               object\n",
      "OverAll Score                  float64\n",
      "Teaching Score                 float64\n",
      "Research Score                 float64\n",
      "Citations Score                float64\n",
      "Industry Income Score          float64\n",
      "International Outlook Score    float64\n",
      "dtype: object\n"
     ]
    }
   ],
   "source": [
    "# Check the new data types 'data_valid'\n",
    "print(data_valid.dtypes)"
   ]
  },
  {
   "cell_type": "code",
   "execution_count": 22,
   "id": "baf2a82d-34f7-4cdf-b0df-fa111ea5bc79",
   "metadata": {
    "tags": []
   },
   "outputs": [
    {
     "data": {
      "text/html": [
       "<div>\n",
       "<style scoped>\n",
       "    .dataframe tbody tr th:only-of-type {\n",
       "        vertical-align: middle;\n",
       "    }\n",
       "\n",
       "    .dataframe tbody tr th {\n",
       "        vertical-align: top;\n",
       "    }\n",
       "\n",
       "    .dataframe thead th {\n",
       "        text-align: right;\n",
       "    }\n",
       "</style>\n",
       "<table border=\"1\" class=\"dataframe\">\n",
       "  <thead>\n",
       "    <tr style=\"text-align: right;\">\n",
       "      <th></th>\n",
       "      <th>University Rank</th>\n",
       "      <th>Name of University</th>\n",
       "      <th>Location</th>\n",
       "      <th>No of student</th>\n",
       "      <th>No of student per staff</th>\n",
       "      <th>International Student</th>\n",
       "      <th>Female:Male Ratio</th>\n",
       "      <th>OverAll Score</th>\n",
       "      <th>Teaching Score</th>\n",
       "      <th>Research Score</th>\n",
       "      <th>Citations Score</th>\n",
       "      <th>Industry Income Score</th>\n",
       "      <th>International Outlook Score</th>\n",
       "    </tr>\n",
       "  </thead>\n",
       "  <tbody>\n",
       "    <tr>\n",
       "      <th>0</th>\n",
       "      <td>1.0</td>\n",
       "      <td>University of Oxford</td>\n",
       "      <td>United Kingdom</td>\n",
       "      <td>20965</td>\n",
       "      <td>10.6</td>\n",
       "      <td>0.42</td>\n",
       "      <td>48:52:00</td>\n",
       "      <td>96.4</td>\n",
       "      <td>92.3</td>\n",
       "      <td>99.7</td>\n",
       "      <td>99.0</td>\n",
       "      <td>74.9</td>\n",
       "      <td>96.2</td>\n",
       "    </tr>\n",
       "    <tr>\n",
       "      <th>1</th>\n",
       "      <td>2.0</td>\n",
       "      <td>Harvard University</td>\n",
       "      <td>United States</td>\n",
       "      <td>21887</td>\n",
       "      <td>9.6</td>\n",
       "      <td>0.25</td>\n",
       "      <td>50:50:00</td>\n",
       "      <td>95.2</td>\n",
       "      <td>94.8</td>\n",
       "      <td>99.0</td>\n",
       "      <td>99.3</td>\n",
       "      <td>49.5</td>\n",
       "      <td>80.5</td>\n",
       "    </tr>\n",
       "    <tr>\n",
       "      <th>2</th>\n",
       "      <td>3.0</td>\n",
       "      <td>University of Cambridge</td>\n",
       "      <td>United Kingdom</td>\n",
       "      <td>20185</td>\n",
       "      <td>11.3</td>\n",
       "      <td>0.39</td>\n",
       "      <td>47:53:00</td>\n",
       "      <td>94.8</td>\n",
       "      <td>90.9</td>\n",
       "      <td>99.5</td>\n",
       "      <td>97.0</td>\n",
       "      <td>54.2</td>\n",
       "      <td>95.8</td>\n",
       "    </tr>\n",
       "    <tr>\n",
       "      <th>3</th>\n",
       "      <td>3.0</td>\n",
       "      <td>Stanford University</td>\n",
       "      <td>United States</td>\n",
       "      <td>16164</td>\n",
       "      <td>7.1</td>\n",
       "      <td>0.24</td>\n",
       "      <td>46:54:00</td>\n",
       "      <td>94.8</td>\n",
       "      <td>94.2</td>\n",
       "      <td>96.7</td>\n",
       "      <td>99.8</td>\n",
       "      <td>65.0</td>\n",
       "      <td>79.8</td>\n",
       "    </tr>\n",
       "    <tr>\n",
       "      <th>4</th>\n",
       "      <td>5.0</td>\n",
       "      <td>Massachusetts Institute of Technology</td>\n",
       "      <td>United States</td>\n",
       "      <td>11415</td>\n",
       "      <td>8.2</td>\n",
       "      <td>0.33</td>\n",
       "      <td>40 : 60</td>\n",
       "      <td>94.2</td>\n",
       "      <td>90.7</td>\n",
       "      <td>93.6</td>\n",
       "      <td>99.8</td>\n",
       "      <td>90.9</td>\n",
       "      <td>89.3</td>\n",
       "    </tr>\n",
       "    <tr>\n",
       "      <th>...</th>\n",
       "      <td>...</td>\n",
       "      <td>...</td>\n",
       "      <td>...</td>\n",
       "      <td>...</td>\n",
       "      <td>...</td>\n",
       "      <td>...</td>\n",
       "      <td>...</td>\n",
       "      <td>...</td>\n",
       "      <td>...</td>\n",
       "      <td>...</td>\n",
       "      <td>...</td>\n",
       "      <td>...</td>\n",
       "      <td>...</td>\n",
       "    </tr>\n",
       "    <tr>\n",
       "      <th>192</th>\n",
       "      <td>194.0</td>\n",
       "      <td>Medical University of Vienna</td>\n",
       "      <td>Austria</td>\n",
       "      <td>7274</td>\n",
       "      <td>8.4</td>\n",
       "      <td>0.33</td>\n",
       "      <td>50:50:00</td>\n",
       "      <td>54.6</td>\n",
       "      <td>35.0</td>\n",
       "      <td>27.6</td>\n",
       "      <td>94.0</td>\n",
       "      <td>61.2</td>\n",
       "      <td>81.7</td>\n",
       "    </tr>\n",
       "    <tr>\n",
       "      <th>193</th>\n",
       "      <td>194.0</td>\n",
       "      <td>University of Miami</td>\n",
       "      <td>United States</td>\n",
       "      <td>17009</td>\n",
       "      <td>10.8</td>\n",
       "      <td>0.16</td>\n",
       "      <td>53:47:00</td>\n",
       "      <td>54.6</td>\n",
       "      <td>48.4</td>\n",
       "      <td>33.5</td>\n",
       "      <td>81.0</td>\n",
       "      <td>48.3</td>\n",
       "      <td>60.2</td>\n",
       "    </tr>\n",
       "    <tr>\n",
       "      <th>194</th>\n",
       "      <td>196.0</td>\n",
       "      <td>University of Erlangen-Nuremberg</td>\n",
       "      <td>Germany</td>\n",
       "      <td>30303</td>\n",
       "      <td>43.4</td>\n",
       "      <td>0.13</td>\n",
       "      <td>51:49:00</td>\n",
       "      <td>54.5</td>\n",
       "      <td>44.6</td>\n",
       "      <td>47.5</td>\n",
       "      <td>68.8</td>\n",
       "      <td>90.7</td>\n",
       "      <td>53.5</td>\n",
       "    </tr>\n",
       "    <tr>\n",
       "      <th>196</th>\n",
       "      <td>198.0</td>\n",
       "      <td>Durham University</td>\n",
       "      <td>United Kingdom</td>\n",
       "      <td>18425</td>\n",
       "      <td>14.1</td>\n",
       "      <td>0.35</td>\n",
       "      <td>54:46:00</td>\n",
       "      <td>54.4</td>\n",
       "      <td>40.0</td>\n",
       "      <td>44.6</td>\n",
       "      <td>70.0</td>\n",
       "      <td>39.4</td>\n",
       "      <td>94.3</td>\n",
       "    </tr>\n",
       "    <tr>\n",
       "      <th>198</th>\n",
       "      <td>198.0</td>\n",
       "      <td>University of Reading</td>\n",
       "      <td>United Kingdom</td>\n",
       "      <td>15720</td>\n",
       "      <td>16.4</td>\n",
       "      <td>0.32</td>\n",
       "      <td>56:44:00</td>\n",
       "      <td>54.4</td>\n",
       "      <td>36.5</td>\n",
       "      <td>39.6</td>\n",
       "      <td>78.5</td>\n",
       "      <td>42.2</td>\n",
       "      <td>93.3</td>\n",
       "    </tr>\n",
       "  </tbody>\n",
       "</table>\n",
       "<p>136 rows × 13 columns</p>\n",
       "</div>"
      ],
      "text/plain": [
       "     University Rank                     Name of University        Location  \\\n",
       "0                1.0                   University of Oxford  United Kingdom   \n",
       "1                2.0                     Harvard University   United States   \n",
       "2                3.0                University of Cambridge  United Kingdom   \n",
       "3                3.0                    Stanford University   United States   \n",
       "4                5.0  Massachusetts Institute of Technology   United States   \n",
       "..               ...                                    ...             ...   \n",
       "192            194.0           Medical University of Vienna         Austria   \n",
       "193            194.0                    University of Miami   United States   \n",
       "194            196.0       University of Erlangen-Nuremberg         Germany   \n",
       "196            198.0                      Durham University  United Kingdom   \n",
       "198            198.0                  University of Reading  United Kingdom   \n",
       "\n",
       "     No of student  No of student per staff  International Student  \\\n",
       "0            20965                     10.6                   0.42   \n",
       "1            21887                      9.6                   0.25   \n",
       "2            20185                     11.3                   0.39   \n",
       "3            16164                      7.1                   0.24   \n",
       "4            11415                      8.2                   0.33   \n",
       "..             ...                      ...                    ...   \n",
       "192           7274                      8.4                   0.33   \n",
       "193          17009                     10.8                   0.16   \n",
       "194          30303                     43.4                   0.13   \n",
       "196          18425                     14.1                   0.35   \n",
       "198          15720                     16.4                   0.32   \n",
       "\n",
       "    Female:Male Ratio  OverAll Score  Teaching Score  Research Score  \\\n",
       "0            48:52:00           96.4            92.3            99.7   \n",
       "1            50:50:00           95.2            94.8            99.0   \n",
       "2            47:53:00           94.8            90.9            99.5   \n",
       "3            46:54:00           94.8            94.2            96.7   \n",
       "4             40 : 60           94.2            90.7            93.6   \n",
       "..                ...            ...             ...             ...   \n",
       "192          50:50:00           54.6            35.0            27.6   \n",
       "193          53:47:00           54.6            48.4            33.5   \n",
       "194          51:49:00           54.5            44.6            47.5   \n",
       "196          54:46:00           54.4            40.0            44.6   \n",
       "198          56:44:00           54.4            36.5            39.6   \n",
       "\n",
       "     Citations Score  Industry Income Score  International Outlook Score  \n",
       "0               99.0                   74.9                         96.2  \n",
       "1               99.3                   49.5                         80.5  \n",
       "2               97.0                   54.2                         95.8  \n",
       "3               99.8                   65.0                         79.8  \n",
       "4               99.8                   90.9                         89.3  \n",
       "..               ...                    ...                          ...  \n",
       "192             94.0                   61.2                         81.7  \n",
       "193             81.0                   48.3                         60.2  \n",
       "194             68.8                   90.7                         53.5  \n",
       "196             70.0                   39.4                         94.3  \n",
       "198             78.5                   42.2                         93.3  \n",
       "\n",
       "[136 rows x 13 columns]"
      ]
     },
     "execution_count": 22,
     "metadata": {},
     "output_type": "execute_result"
    }
   ],
   "source": [
    "data_valid"
   ]
  },
  {
   "cell_type": "code",
   "execution_count": 23,
   "id": "afd74c63-609b-4f89-9693-bcfc24bf04a9",
   "metadata": {
    "tags": []
   },
   "outputs": [
    {
     "data": {
      "text/plain": [
       "Index(['University Rank', 'Name of University', 'Location', 'No of student',\n",
       "       'No of student per staff', 'International Student', 'Female:Male Ratio',\n",
       "       'Teaching Score', 'Research Score', 'Citations Score',\n",
       "       'Industry Income Score', 'International Outlook Score'],\n",
       "      dtype='object')"
      ]
     },
     "execution_count": 23,
     "metadata": {},
     "output_type": "execute_result"
    }
   ],
   "source": [
    "df_X = data_valid.drop(columns=['OverAll Score'])\n",
    "df_y = data_valid[['OverAll Score']]\n",
    "df_X.columns"
   ]
  },
  {
   "cell_type": "code",
   "execution_count": 24,
   "id": "2cb356ee-4510-48ff-bf99-dc2c0ed5c9dd",
   "metadata": {
    "tags": []
   },
   "outputs": [
    {
     "data": {
      "text/plain": [
       "Index(['OverAll Score'], dtype='object')"
      ]
     },
     "execution_count": 24,
     "metadata": {},
     "output_type": "execute_result"
    }
   ],
   "source": [
    "df_y.columns"
   ]
  },
  {
   "cell_type": "code",
   "execution_count": 25,
   "id": "f28e59c7-1cbd-475b-9285-022d0df338ce",
   "metadata": {
    "tags": []
   },
   "outputs": [],
   "source": [
    "# Pandas and numpy for data manipulation\n",
    "import pandas as pd\n",
    "import numpy as np\n",
    "np.random.seed(123)\n",
    "\n",
    "# Standard ML Models for comparison\n",
    "from sklearn.linear_model import LinearRegression\n",
    "\n",
    "# Splitting data into training/testing\n",
    "from sklearn.model_selection import train_test_split\n",
    "\n",
    "# Metrics\n",
    "from sklearn.metrics import mean_squared_error, mean_absolute_error, median_absolute_error"
   ]
  },
  {
   "cell_type": "code",
   "execution_count": 26,
   "id": "5f332092-ae32-46bd-b116-1ea22f1c787f",
   "metadata": {
    "tags": []
   },
   "outputs": [],
   "source": [
    "# 75% is for training and 25% is for testing\n",
    "X_train, X_test, y_train, y_test = train_test_split(df_X, df_y, \n",
    "                                                    test_size = 0.25,\n",
    "                                                    random_state=123)"
   ]
  },
  {
   "cell_type": "code",
   "execution_count": 27,
   "id": "df193a9e-8e01-4779-8183-85d0cd5930ae",
   "metadata": {
    "tags": []
   },
   "outputs": [
    {
     "name": "stdout",
     "output_type": "stream",
     "text": [
      "Baseline on test data, MAE is 11.01\n",
      "Baseline on test data, RMSE is 14.51\n"
     ]
    },
    {
     "name": "stderr",
     "output_type": "stream",
     "text": [
      "C:\\ProgramData\\anaconda3\\Lib\\site-packages\\numpy\\core\\fromnumeric.py:3462: FutureWarning: In a future version, DataFrame.mean(axis=None) will return a scalar mean over the entire DataFrame. To retain the old behavior, use 'frame.mean(axis=0)' or just 'frame.mean()'\n",
      "  return mean(axis=axis, dtype=dtype, out=out, **kwargs)\n",
      "C:\\ProgramData\\anaconda3\\Lib\\site-packages\\numpy\\core\\fromnumeric.py:3462: FutureWarning: In a future version, DataFrame.mean(axis=None) will return a scalar mean over the entire DataFrame. To retain the old behavior, use 'frame.mean(axis=0)' or just 'frame.mean()'\n",
      "  return mean(axis=axis, dtype=dtype, out=out, **kwargs)\n"
     ]
    }
   ],
   "source": [
    "# a very simple baseline: use the median value as the prediction results\n",
    "baseline = np.median(y_train)\n",
    "baseline_mae = np.mean(abs(baseline - y_test))\n",
    "baseline_rmse = np.sqrt(np.mean((baseline - y_test) ** 2))\n",
    "print('Baseline on test data, MAE is %0.2f' %  baseline_mae)  \n",
    "print('Baseline on test data, RMSE is %0.2f' %  baseline_rmse)   "
   ]
  },
  {
   "cell_type": "code",
   "execution_count": 28,
   "id": "ecda6633-545a-42da-93f4-b09861e78094",
   "metadata": {
    "tags": []
   },
   "outputs": [],
   "source": [
    "feature_train = X_train[['Teaching Score', 'Research Score', 'Citations Score',\n",
    "       'Industry Income Score', 'International Outlook Score']]"
   ]
  },
  {
   "cell_type": "code",
   "execution_count": 29,
   "id": "cfb915c8-3090-4eaa-896e-fde7a105c6f1",
   "metadata": {
    "tags": []
   },
   "outputs": [
    {
     "data": {
      "text/html": [
       "<div>\n",
       "<style scoped>\n",
       "    .dataframe tbody tr th:only-of-type {\n",
       "        vertical-align: middle;\n",
       "    }\n",
       "\n",
       "    .dataframe tbody tr th {\n",
       "        vertical-align: top;\n",
       "    }\n",
       "\n",
       "    .dataframe thead th {\n",
       "        text-align: right;\n",
       "    }\n",
       "</style>\n",
       "<table border=\"1\" class=\"dataframe\">\n",
       "  <thead>\n",
       "    <tr style=\"text-align: right;\">\n",
       "      <th></th>\n",
       "      <th>Teaching Score</th>\n",
       "      <th>Research Score</th>\n",
       "      <th>Citations Score</th>\n",
       "      <th>Industry Income Score</th>\n",
       "      <th>International Outlook Score</th>\n",
       "    </tr>\n",
       "  </thead>\n",
       "  <tbody>\n",
       "    <tr>\n",
       "      <th>23</th>\n",
       "      <td>74.2</td>\n",
       "      <td>84.0</td>\n",
       "      <td>95.0</td>\n",
       "      <td>44.6</td>\n",
       "      <td>74.7</td>\n",
       "    </tr>\n",
       "    <tr>\n",
       "      <th>106</th>\n",
       "      <td>48.6</td>\n",
       "      <td>60.1</td>\n",
       "      <td>77.8</td>\n",
       "      <td>80.0</td>\n",
       "      <td>63.9</td>\n",
       "    </tr>\n",
       "    <tr>\n",
       "      <th>27</th>\n",
       "      <td>65.4</td>\n",
       "      <td>81.8</td>\n",
       "      <td>98.7</td>\n",
       "      <td>55.2</td>\n",
       "      <td>80.1</td>\n",
       "    </tr>\n",
       "    <tr>\n",
       "      <th>9</th>\n",
       "      <td>82.8</td>\n",
       "      <td>90.8</td>\n",
       "      <td>98.3</td>\n",
       "      <td>59.8</td>\n",
       "      <td>97.5</td>\n",
       "    </tr>\n",
       "    <tr>\n",
       "      <th>178</th>\n",
       "      <td>45.8</td>\n",
       "      <td>47.0</td>\n",
       "      <td>78.7</td>\n",
       "      <td>52.1</td>\n",
       "      <td>41.3</td>\n",
       "    </tr>\n",
       "  </tbody>\n",
       "</table>\n",
       "</div>"
      ],
      "text/plain": [
       "     Teaching Score  Research Score  Citations Score  Industry Income Score  \\\n",
       "23             74.2            84.0             95.0                   44.6   \n",
       "106            48.6            60.1             77.8                   80.0   \n",
       "27             65.4            81.8             98.7                   55.2   \n",
       "9              82.8            90.8             98.3                   59.8   \n",
       "178            45.8            47.0             78.7                   52.1   \n",
       "\n",
       "     International Outlook Score  \n",
       "23                          74.7  \n",
       "106                         63.9  \n",
       "27                          80.1  \n",
       "9                           97.5  \n",
       "178                         41.3  "
      ]
     },
     "execution_count": 29,
     "metadata": {},
     "output_type": "execute_result"
    }
   ],
   "source": [
    "feature_train.head()"
   ]
  },
  {
   "cell_type": "code",
   "execution_count": 30,
   "id": "43623d0e-0237-407a-bfc8-b04b101b6b31",
   "metadata": {
    "tags": []
   },
   "outputs": [
    {
     "data": {
      "text/html": [
       "<div>\n",
       "<style scoped>\n",
       "    .dataframe tbody tr th:only-of-type {\n",
       "        vertical-align: middle;\n",
       "    }\n",
       "\n",
       "    .dataframe tbody tr th {\n",
       "        vertical-align: top;\n",
       "    }\n",
       "\n",
       "    .dataframe thead th {\n",
       "        text-align: right;\n",
       "    }\n",
       "</style>\n",
       "<table border=\"1\" class=\"dataframe\">\n",
       "  <thead>\n",
       "    <tr style=\"text-align: right;\">\n",
       "      <th></th>\n",
       "      <th>Teaching Score</th>\n",
       "      <th>Research Score</th>\n",
       "      <th>Citations Score</th>\n",
       "      <th>Industry Income Score</th>\n",
       "      <th>International Outlook Score</th>\n",
       "    </tr>\n",
       "  </thead>\n",
       "  <tbody>\n",
       "    <tr>\n",
       "      <th>23</th>\n",
       "      <td>74.2</td>\n",
       "      <td>84.0</td>\n",
       "      <td>95.0</td>\n",
       "      <td>44.6</td>\n",
       "      <td>74.7</td>\n",
       "    </tr>\n",
       "    <tr>\n",
       "      <th>106</th>\n",
       "      <td>48.6</td>\n",
       "      <td>60.1</td>\n",
       "      <td>77.8</td>\n",
       "      <td>80.0</td>\n",
       "      <td>63.9</td>\n",
       "    </tr>\n",
       "    <tr>\n",
       "      <th>27</th>\n",
       "      <td>65.4</td>\n",
       "      <td>81.8</td>\n",
       "      <td>98.7</td>\n",
       "      <td>55.2</td>\n",
       "      <td>80.1</td>\n",
       "    </tr>\n",
       "    <tr>\n",
       "      <th>9</th>\n",
       "      <td>82.8</td>\n",
       "      <td>90.8</td>\n",
       "      <td>98.3</td>\n",
       "      <td>59.8</td>\n",
       "      <td>97.5</td>\n",
       "    </tr>\n",
       "    <tr>\n",
       "      <th>178</th>\n",
       "      <td>45.8</td>\n",
       "      <td>47.0</td>\n",
       "      <td>78.7</td>\n",
       "      <td>52.1</td>\n",
       "      <td>41.3</td>\n",
       "    </tr>\n",
       "    <tr>\n",
       "      <th>...</th>\n",
       "      <td>...</td>\n",
       "      <td>...</td>\n",
       "      <td>...</td>\n",
       "      <td>...</td>\n",
       "      <td>...</td>\n",
       "    </tr>\n",
       "    <tr>\n",
       "      <th>21</th>\n",
       "      <td>74.5</td>\n",
       "      <td>85.4</td>\n",
       "      <td>97.9</td>\n",
       "      <td>44.5</td>\n",
       "      <td>96.7</td>\n",
       "    </tr>\n",
       "    <tr>\n",
       "      <th>141</th>\n",
       "      <td>40.7</td>\n",
       "      <td>45.2</td>\n",
       "      <td>87.8</td>\n",
       "      <td>79.4</td>\n",
       "      <td>57.3</td>\n",
       "    </tr>\n",
       "    <tr>\n",
       "      <th>97</th>\n",
       "      <td>49.5</td>\n",
       "      <td>47.5</td>\n",
       "      <td>96.5</td>\n",
       "      <td>66.7</td>\n",
       "      <td>50.6</td>\n",
       "    </tr>\n",
       "    <tr>\n",
       "      <th>184</th>\n",
       "      <td>32.6</td>\n",
       "      <td>39.4</td>\n",
       "      <td>91.5</td>\n",
       "      <td>46.2</td>\n",
       "      <td>68.9</td>\n",
       "    </tr>\n",
       "    <tr>\n",
       "      <th>153</th>\n",
       "      <td>42.0</td>\n",
       "      <td>40.5</td>\n",
       "      <td>87.0</td>\n",
       "      <td>49.3</td>\n",
       "      <td>73.8</td>\n",
       "    </tr>\n",
       "  </tbody>\n",
       "</table>\n",
       "<p>102 rows × 5 columns</p>\n",
       "</div>"
      ],
      "text/plain": [
       "     Teaching Score  Research Score  Citations Score  Industry Income Score  \\\n",
       "23             74.2            84.0             95.0                   44.6   \n",
       "106            48.6            60.1             77.8                   80.0   \n",
       "27             65.4            81.8             98.7                   55.2   \n",
       "9              82.8            90.8             98.3                   59.8   \n",
       "178            45.8            47.0             78.7                   52.1   \n",
       "..              ...             ...              ...                    ...   \n",
       "21             74.5            85.4             97.9                   44.5   \n",
       "141            40.7            45.2             87.8                   79.4   \n",
       "97             49.5            47.5             96.5                   66.7   \n",
       "184            32.6            39.4             91.5                   46.2   \n",
       "153            42.0            40.5             87.0                   49.3   \n",
       "\n",
       "     International Outlook Score  \n",
       "23                          74.7  \n",
       "106                         63.9  \n",
       "27                          80.1  \n",
       "9                           97.5  \n",
       "178                         41.3  \n",
       "..                           ...  \n",
       "21                          96.7  \n",
       "141                         57.3  \n",
       "97                          50.6  \n",
       "184                         68.9  \n",
       "153                         73.8  \n",
       "\n",
       "[102 rows x 5 columns]"
      ]
     },
     "execution_count": 30,
     "metadata": {},
     "output_type": "execute_result"
    }
   ],
   "source": [
    "feature_train"
   ]
  },
  {
   "cell_type": "markdown",
   "id": "cce565de",
   "metadata": {},
   "source": [
    "## II linear Regression Model"
   ]
  },
  {
   "cell_type": "code",
   "execution_count": 31,
   "id": "38c16d65-1416-41f8-bf11-a7d6027ad9f1",
   "metadata": {
    "tags": []
   },
   "outputs": [
    {
     "data": {
      "text/html": [
       "<style>#sk-container-id-1 {color: black;}#sk-container-id-1 pre{padding: 0;}#sk-container-id-1 div.sk-toggleable {background-color: white;}#sk-container-id-1 label.sk-toggleable__label {cursor: pointer;display: block;width: 100%;margin-bottom: 0;padding: 0.3em;box-sizing: border-box;text-align: center;}#sk-container-id-1 label.sk-toggleable__label-arrow:before {content: \"▸\";float: left;margin-right: 0.25em;color: #696969;}#sk-container-id-1 label.sk-toggleable__label-arrow:hover:before {color: black;}#sk-container-id-1 div.sk-estimator:hover label.sk-toggleable__label-arrow:before {color: black;}#sk-container-id-1 div.sk-toggleable__content {max-height: 0;max-width: 0;overflow: hidden;text-align: left;background-color: #f0f8ff;}#sk-container-id-1 div.sk-toggleable__content pre {margin: 0.2em;color: black;border-radius: 0.25em;background-color: #f0f8ff;}#sk-container-id-1 input.sk-toggleable__control:checked~div.sk-toggleable__content {max-height: 200px;max-width: 100%;overflow: auto;}#sk-container-id-1 input.sk-toggleable__control:checked~label.sk-toggleable__label-arrow:before {content: \"▾\";}#sk-container-id-1 div.sk-estimator input.sk-toggleable__control:checked~label.sk-toggleable__label {background-color: #d4ebff;}#sk-container-id-1 div.sk-label input.sk-toggleable__control:checked~label.sk-toggleable__label {background-color: #d4ebff;}#sk-container-id-1 input.sk-hidden--visually {border: 0;clip: rect(1px 1px 1px 1px);clip: rect(1px, 1px, 1px, 1px);height: 1px;margin: -1px;overflow: hidden;padding: 0;position: absolute;width: 1px;}#sk-container-id-1 div.sk-estimator {font-family: monospace;background-color: #f0f8ff;border: 1px dotted black;border-radius: 0.25em;box-sizing: border-box;margin-bottom: 0.5em;}#sk-container-id-1 div.sk-estimator:hover {background-color: #d4ebff;}#sk-container-id-1 div.sk-parallel-item::after {content: \"\";width: 100%;border-bottom: 1px solid gray;flex-grow: 1;}#sk-container-id-1 div.sk-label:hover label.sk-toggleable__label {background-color: #d4ebff;}#sk-container-id-1 div.sk-serial::before {content: \"\";position: absolute;border-left: 1px solid gray;box-sizing: border-box;top: 0;bottom: 0;left: 50%;z-index: 0;}#sk-container-id-1 div.sk-serial {display: flex;flex-direction: column;align-items: center;background-color: white;padding-right: 0.2em;padding-left: 0.2em;position: relative;}#sk-container-id-1 div.sk-item {position: relative;z-index: 1;}#sk-container-id-1 div.sk-parallel {display: flex;align-items: stretch;justify-content: center;background-color: white;position: relative;}#sk-container-id-1 div.sk-item::before, #sk-container-id-1 div.sk-parallel-item::before {content: \"\";position: absolute;border-left: 1px solid gray;box-sizing: border-box;top: 0;bottom: 0;left: 50%;z-index: -1;}#sk-container-id-1 div.sk-parallel-item {display: flex;flex-direction: column;z-index: 1;position: relative;background-color: white;}#sk-container-id-1 div.sk-parallel-item:first-child::after {align-self: flex-end;width: 50%;}#sk-container-id-1 div.sk-parallel-item:last-child::after {align-self: flex-start;width: 50%;}#sk-container-id-1 div.sk-parallel-item:only-child::after {width: 0;}#sk-container-id-1 div.sk-dashed-wrapped {border: 1px dashed gray;margin: 0 0.4em 0.5em 0.4em;box-sizing: border-box;padding-bottom: 0.4em;background-color: white;}#sk-container-id-1 div.sk-label label {font-family: monospace;font-weight: bold;display: inline-block;line-height: 1.2em;}#sk-container-id-1 div.sk-label-container {text-align: center;}#sk-container-id-1 div.sk-container {/* jupyter's `normalize.less` sets `[hidden] { display: none; }` but bootstrap.min.css set `[hidden] { display: none !important; }` so we also need the `!important` here to be able to override the default hidden behavior on the sphinx rendered scikit-learn.org. See: https://github.com/scikit-learn/scikit-learn/issues/21755 */display: inline-block !important;position: relative;}#sk-container-id-1 div.sk-text-repr-fallback {display: none;}</style><div id=\"sk-container-id-1\" class=\"sk-top-container\"><div class=\"sk-text-repr-fallback\"><pre>LinearRegression()</pre><b>In a Jupyter environment, please rerun this cell to show the HTML representation or trust the notebook. <br />On GitHub, the HTML representation is unable to render, please try loading this page with nbviewer.org.</b></div><div class=\"sk-container\" hidden><div class=\"sk-item\"><div class=\"sk-estimator sk-toggleable\"><input class=\"sk-toggleable__control sk-hidden--visually\" id=\"sk-estimator-id-1\" type=\"checkbox\" checked><label for=\"sk-estimator-id-1\" class=\"sk-toggleable__label sk-toggleable__label-arrow\">LinearRegression</label><div class=\"sk-toggleable__content\"><pre>LinearRegression()</pre></div></div></div></div></div>"
      ],
      "text/plain": [
       "LinearRegression()"
      ]
     },
     "execution_count": 31,
     "metadata": {},
     "output_type": "execute_result"
    }
   ],
   "source": [
    "lr = LinearRegression()\n",
    "lr.fit(feature_train, y_train)"
   ]
  },
  {
   "cell_type": "code",
   "execution_count": 32,
   "id": "352d726b-ff00-4199-84a1-884ae3367756",
   "metadata": {
    "tags": []
   },
   "outputs": [
    {
     "name": "stdout",
     "output_type": "stream",
     "text": [
      "Using Linear Regression, MAE on training data is 0.03\n",
      "Using Linear Regression, RMSE on training data is 0.03\n",
      "Using Linear Regression, MAE on testing data is 0.03\n",
      "Using Linear Regression, RMSE on testing data is 0.03\n",
      "w0 (Intercept): [0.00411922]\n",
      "w1, w2, w3, w4, w5 (Coefficients): [[0.29937748 0.30049566 0.30025442 0.0248398  0.07488083]]\n"
     ]
    },
    {
     "name": "stderr",
     "output_type": "stream",
     "text": [
      "C:\\ProgramData\\anaconda3\\Lib\\site-packages\\numpy\\core\\fromnumeric.py:3462: FutureWarning: In a future version, DataFrame.mean(axis=None) will return a scalar mean over the entire DataFrame. To retain the old behavior, use 'frame.mean(axis=0)' or just 'frame.mean()'\n",
      "  return mean(axis=axis, dtype=dtype, out=out, **kwargs)\n",
      "C:\\ProgramData\\anaconda3\\Lib\\site-packages\\numpy\\core\\fromnumeric.py:3462: FutureWarning: In a future version, DataFrame.mean(axis=None) will return a scalar mean over the entire DataFrame. To retain the old behavior, use 'frame.mean(axis=0)' or just 'frame.mean()'\n",
      "  return mean(axis=axis, dtype=dtype, out=out, **kwargs)\n",
      "C:\\ProgramData\\anaconda3\\Lib\\site-packages\\numpy\\core\\fromnumeric.py:3462: FutureWarning: In a future version, DataFrame.mean(axis=None) will return a scalar mean over the entire DataFrame. To retain the old behavior, use 'frame.mean(axis=0)' or just 'frame.mean()'\n",
      "  return mean(axis=axis, dtype=dtype, out=out, **kwargs)\n",
      "C:\\ProgramData\\anaconda3\\Lib\\site-packages\\numpy\\core\\fromnumeric.py:3462: FutureWarning: In a future version, DataFrame.mean(axis=None) will return a scalar mean over the entire DataFrame. To retain the old behavior, use 'frame.mean(axis=0)' or just 'frame.mean()'\n",
      "  return mean(axis=axis, dtype=dtype, out=out, **kwargs)\n"
     ]
    }
   ],
   "source": [
    "# Selecting features for training\n",
    "feature_train = X_train[['Teaching Score', 'Research Score', 'Citations Score',\n",
    "                         'Industry Income Score', 'International Outlook Score']]\n",
    "\n",
    "# Creating and training a linear regression model\n",
    "lr = LinearRegression()\n",
    "lr.fit(feature_train, y_train)\n",
    "\n",
    "# Making predictions on the training data\n",
    "train_predictions = lr.predict(feature_train)\n",
    "\n",
    "# Calculating and printing evaluation metrics for training data\n",
    "train_mae = np.mean(abs(train_predictions - y_train))\n",
    "train_rmse = np.sqrt(np.mean((train_predictions - y_train) ** 2))\n",
    "\n",
    "print('Using Linear Regression, MAE on training data is %0.2f' % train_mae)\n",
    "print('Using Linear Regression, RMSE on training data is %0.2f' % train_rmse)\n",
    "\n",
    "# Selecting features for testing\n",
    "feature_test = X_test[['Teaching Score', 'Research Score', 'Citations Score',\n",
    "                        'Industry Income Score', 'International Outlook Score']]\n",
    "\n",
    "# Making predictions on the testing data\n",
    "test_predictions = lr.predict(feature_test)\n",
    "\n",
    "# Calculating and printing evaluation metrics for testing data\n",
    "mae = np.mean(abs(test_predictions - y_test))\n",
    "rmse = np.sqrt(np.mean((test_predictions - y_test) ** 2))\n",
    "\n",
    "print('Using Linear Regression, MAE on testing data is %0.2f' % mae)\n",
    "print('Using Linear Regression, RMSE on testing data is %0.2f' % rmse)\n",
    "\n",
    "# Printing model coefficients\n",
    "print('w0 (Intercept):', lr.intercept_)\n",
    "print('w1, w2, w3, w4, w5 (Coefficients):', lr.coef_)\n"
   ]
  },
  {
   "cell_type": "code",
   "execution_count": 33,
   "id": "d02bd2f1-6a86-4ad4-bd4e-efecdec7f77d",
   "metadata": {
    "tags": []
   },
   "outputs": [
    {
     "data": {
      "text/html": [
       "<div>\n",
       "<style scoped>\n",
       "    .dataframe tbody tr th:only-of-type {\n",
       "        vertical-align: middle;\n",
       "    }\n",
       "\n",
       "    .dataframe tbody tr th {\n",
       "        vertical-align: top;\n",
       "    }\n",
       "\n",
       "    .dataframe thead th {\n",
       "        text-align: right;\n",
       "    }\n",
       "</style>\n",
       "<table border=\"1\" class=\"dataframe\">\n",
       "  <thead>\n",
       "    <tr style=\"text-align: right;\">\n",
       "      <th></th>\n",
       "      <th>University Rank</th>\n",
       "      <th>Name of University</th>\n",
       "      <th>Location</th>\n",
       "      <th>No of student</th>\n",
       "      <th>No of student per staff</th>\n",
       "      <th>International Student</th>\n",
       "      <th>Female:Male Ratio</th>\n",
       "      <th>OverAll Score</th>\n",
       "      <th>Teaching Score</th>\n",
       "      <th>Research Score</th>\n",
       "      <th>Citations Score</th>\n",
       "      <th>Industry Income Score</th>\n",
       "      <th>International Outlook Score</th>\n",
       "    </tr>\n",
       "  </thead>\n",
       "  <tbody>\n",
       "    <tr>\n",
       "      <th>0</th>\n",
       "      <td>1.0</td>\n",
       "      <td>University of Oxford</td>\n",
       "      <td>United Kingdom</td>\n",
       "      <td>20965</td>\n",
       "      <td>10.6</td>\n",
       "      <td>0.42</td>\n",
       "      <td>48:52:00</td>\n",
       "      <td>96.4</td>\n",
       "      <td>92.3</td>\n",
       "      <td>99.7</td>\n",
       "      <td>99.0</td>\n",
       "      <td>74.9</td>\n",
       "      <td>96.2</td>\n",
       "    </tr>\n",
       "    <tr>\n",
       "      <th>1</th>\n",
       "      <td>2.0</td>\n",
       "      <td>Harvard University</td>\n",
       "      <td>United States</td>\n",
       "      <td>21887</td>\n",
       "      <td>9.6</td>\n",
       "      <td>0.25</td>\n",
       "      <td>50:50:00</td>\n",
       "      <td>95.2</td>\n",
       "      <td>94.8</td>\n",
       "      <td>99.0</td>\n",
       "      <td>99.3</td>\n",
       "      <td>49.5</td>\n",
       "      <td>80.5</td>\n",
       "    </tr>\n",
       "    <tr>\n",
       "      <th>2</th>\n",
       "      <td>3.0</td>\n",
       "      <td>University of Cambridge</td>\n",
       "      <td>United Kingdom</td>\n",
       "      <td>20185</td>\n",
       "      <td>11.3</td>\n",
       "      <td>0.39</td>\n",
       "      <td>47:53:00</td>\n",
       "      <td>94.8</td>\n",
       "      <td>90.9</td>\n",
       "      <td>99.5</td>\n",
       "      <td>97.0</td>\n",
       "      <td>54.2</td>\n",
       "      <td>95.8</td>\n",
       "    </tr>\n",
       "    <tr>\n",
       "      <th>3</th>\n",
       "      <td>3.0</td>\n",
       "      <td>Stanford University</td>\n",
       "      <td>United States</td>\n",
       "      <td>16164</td>\n",
       "      <td>7.1</td>\n",
       "      <td>0.24</td>\n",
       "      <td>46:54:00</td>\n",
       "      <td>94.8</td>\n",
       "      <td>94.2</td>\n",
       "      <td>96.7</td>\n",
       "      <td>99.8</td>\n",
       "      <td>65.0</td>\n",
       "      <td>79.8</td>\n",
       "    </tr>\n",
       "    <tr>\n",
       "      <th>4</th>\n",
       "      <td>5.0</td>\n",
       "      <td>Massachusetts Institute of Technology</td>\n",
       "      <td>United States</td>\n",
       "      <td>11415</td>\n",
       "      <td>8.2</td>\n",
       "      <td>0.33</td>\n",
       "      <td>40 : 60</td>\n",
       "      <td>94.2</td>\n",
       "      <td>90.7</td>\n",
       "      <td>93.6</td>\n",
       "      <td>99.8</td>\n",
       "      <td>90.9</td>\n",
       "      <td>89.3</td>\n",
       "    </tr>\n",
       "  </tbody>\n",
       "</table>\n",
       "</div>"
      ],
      "text/plain": [
       "   University Rank                     Name of University        Location  \\\n",
       "0              1.0                   University of Oxford  United Kingdom   \n",
       "1              2.0                     Harvard University   United States   \n",
       "2              3.0                University of Cambridge  United Kingdom   \n",
       "3              3.0                    Stanford University   United States   \n",
       "4              5.0  Massachusetts Institute of Technology   United States   \n",
       "\n",
       "   No of student  No of student per staff  International Student  \\\n",
       "0          20965                     10.6                   0.42   \n",
       "1          21887                      9.6                   0.25   \n",
       "2          20185                     11.3                   0.39   \n",
       "3          16164                      7.1                   0.24   \n",
       "4          11415                      8.2                   0.33   \n",
       "\n",
       "  Female:Male Ratio OverAll Score  Teaching Score  Research Score  \\\n",
       "0          48:52:00          96.4            92.3            99.7   \n",
       "1          50:50:00          95.2            94.8            99.0   \n",
       "2          47:53:00          94.8            90.9            99.5   \n",
       "3          46:54:00          94.8            94.2            96.7   \n",
       "4           40 : 60          94.2            90.7            93.6   \n",
       "\n",
       "   Citations Score  Industry Income Score  International Outlook Score  \n",
       "0             99.0                   74.9                         96.2  \n",
       "1             99.3                   49.5                         80.5  \n",
       "2             97.0                   54.2                         95.8  \n",
       "3             99.8                   65.0                         79.8  \n",
       "4             99.8                   90.9                         89.3  "
      ]
     },
     "metadata": {},
     "output_type": "display_data"
    }
   ],
   "source": [
    "# Display the first few rows of the dataset as a table\n",
    "display(data.head(5))"
   ]
  },
  {
   "cell_type": "code",
   "execution_count": 34,
   "id": "d88f1abf-a645-49ee-891d-2e88b6588f1f",
   "metadata": {
    "tags": []
   },
   "outputs": [
    {
     "name": "stdout",
     "output_type": "stream",
     "text": [
      "Predicted OverAll Score for original Data for University of Oxford:\n",
      "[[96.4]]\n"
     ]
    }
   ],
   "source": [
    "# we use back orginal dataset to apply Coefficients to find the OverAll Score for University of Oxford\n",
    "# the predicted result greatly match the actual score\n",
    "\n",
    "new_data = pd.DataFrame({\n",
    "    'Teaching Score': [92.3],\n",
    "    'Research Score': [99.7],\n",
    "    'Citations Score': [99.0],\n",
    "    'Industry Income Score': [74.9],\n",
    "    'International Outlook Score': [96.2]\n",
    "})\n",
    "# Use the trained model to predict the new OverAll Score for University of Oxford\n",
    "new_predictions = lr.predict(new_data)\n",
    "\n",
    "# Round the predictions to one decimal place\n",
    "rounded_predictions = np.round(new_predictions, 1)\n",
    "\n",
    "print('Predicted OverAll Score for original Data for University of Oxford:')\n",
    "print(rounded_predictions)\n"
   ]
  },
  {
   "cell_type": "code",
   "execution_count": 35,
   "id": "a72a3b52-a22c-49f9-b11e-7e63436c0040",
   "metadata": {
    "tags": []
   },
   "outputs": [
    {
     "name": "stdout",
     "output_type": "stream",
     "text": [
      "Predicted OverAll Score for MIT next year (2024):\n",
      "[[95.4]]\n",
      "Higher chance to place on the second position.\n"
     ]
    }
   ],
   "source": [
    "#let say MIT is able to improve Teaching Score by 4 points next year\n",
    "new_data = pd.DataFrame({\n",
    "    'Teaching Score': [94.7],\n",
    "    'Research Score': [93.6],\n",
    "    'Citations Score': [99.8],\n",
    "    'Industry Income Score': [90.9],\n",
    "    'International Outlook Score': [89.3]\n",
    "})\n",
    "# Use the trained model to predict the new OverAll Score for MIT next year\n",
    "new_predictions = lr.predict(new_data)\n",
    "\n",
    "# Round the predictions to one decimal place\n",
    "rounded_predictions = np.round(new_predictions, 1)\n",
    "\n",
    "print('Predicted OverAll Score for MIT next year (2024):')\n",
    "print(rounded_predictions)\n",
    "\n",
    "# Thresholds for ranking interpretation\n",
    "threshold_second_position = 95.2\n",
    "threshold_first_position = 96.4\n",
    "\n",
    "# Interpret the predicted ranking\n",
    "if rounded_predictions == threshold_second_position:\n",
    "    print('Higher chance to share the second position.')\n",
    "elif rounded_predictions > threshold_second_position:\n",
    "    print('Higher chance to place on the second position.')\n",
    "    if rounded_predictions > threshold_first_position:\n",
    "        print('Higher chance to place on the first position.')\n",
    "else:\n",
    "    print('The predicted score suggests a position below the second position.')"
   ]
  },
  {
   "cell_type": "markdown",
   "id": "ed721cb2",
   "metadata": {},
   "source": [
    "## III Lasso Model"
   ]
  },
  {
   "cell_type": "code",
   "execution_count": 36,
   "id": "6c8d0444-627d-4c3b-ac39-02146ce3d0e4",
   "metadata": {
    "tags": []
   },
   "outputs": [
    {
     "name": "stdout",
     "output_type": "stream",
     "text": [
      "Using Lasso Regression, MAE on training data is 0.12\n",
      "Using Lasso Regression, RMSE on training data is 0.15\n",
      "Using Lasso Regression, MAE on testing data is 0.16\n",
      "Using Lasso Regression, RMSE on testing data is 0.20\n",
      "Intercept (Intercept): 1.4712041410892311\n",
      "Coefficients (w1, w2, w3, w4, w5): [0.28942641 0.30768022 0.29111317 0.01983585 0.07134353]\n"
     ]
    }
   ],
   "source": [
    "from sklearn.linear_model import Lasso\n",
    "\n",
    "# Selecting features for training\n",
    "feature_train = X_train[['Teaching Score', 'Research Score', 'Citations Score',\n",
    "                         'Industry Income Score', 'International Outlook Score']]\n",
    "\n",
    "# Creating and training a Lasso Regression model\n",
    "lasso_model = Lasso(alpha=1.0)  \n",
    "lasso_model.fit(feature_train, y_train.values.ravel())  # Using .values.ravel() to avoid a warning\n",
    "\n",
    "# Making predictions on the training data\n",
    "train_predictions_lasso = lasso_model.predict(feature_train)\n",
    "\n",
    "# Calculating and printing evaluation metrics for training data\n",
    "train_mae_lasso = np.mean(abs(train_predictions_lasso - y_train.values.ravel()))\n",
    "train_rmse_lasso = np.sqrt(np.mean((train_predictions_lasso - y_train.values.ravel()) ** 2))\n",
    "\n",
    "print('Using Lasso Regression, MAE on training data is %0.2f' % train_mae_lasso)\n",
    "print('Using Lasso Regression, RMSE on training data is %0.2f' % train_rmse_lasso)\n",
    "\n",
    "# Selecting features for testing\n",
    "feature_test = X_test[['Teaching Score', 'Research Score', 'Citations Score',\n",
    "                        'Industry Income Score', 'International Outlook Score']]\n",
    "\n",
    "# Making predictions on the testing data\n",
    "test_predictions_lasso = lasso_model.predict(feature_test)\n",
    "\n",
    "# Calculating and printing evaluation metrics for testing data\n",
    "mae_lasso = np.mean(abs(test_predictions_lasso - y_test.values.ravel()))\n",
    "rmse_lasso = np.sqrt(np.mean((test_predictions_lasso - y_test.values.ravel()) ** 2))\n",
    "\n",
    "print('Using Lasso Regression, MAE on testing data is %0.2f' % mae_lasso)\n",
    "print('Using Lasso Regression, RMSE on testing data is %0.2f' % rmse_lasso)\n",
    "\n",
    "# Printing model coefficients\n",
    "print('Intercept (Intercept):', lasso_model.intercept_)\n",
    "print('Coefficients (w1, w2, w3, w4, w5):', lasso_model.coef_)"
   ]
  },
  {
   "cell_type": "code",
   "execution_count": 37,
   "id": "5afdb898",
   "metadata": {
    "scrolled": true
   },
   "outputs": [
    {
     "name": "stdout",
     "output_type": "stream",
     "text": [
      "Best Hyperparameters: {'alpha': 0.01}\n",
      "Using Optimized Lasso Regression, MAE on training data is 0.12\n",
      "Using Optimized Lasso Regression, RMSE on training data is 0.15\n",
      "Using Optimized Lasso Regression, MAE on testing data is 0.03\n",
      "Using Optimized Lasso Regression, RMSE on testing data is 0.03\n",
      "Intercept (Intercept): 0.015758541847318952\n",
      "Coefficients (w1, w2, w3, w4, w5): [0.29943476 0.30043701 0.30015686 0.02480302 0.0748725 ]\n"
     ]
    }
   ],
   "source": [
    "from sklearn.linear_model import Lasso\n",
    "from sklearn.model_selection import GridSearchCV\n",
    "\n",
    "# Selecting features for training\n",
    "feature_train = X_train[['Teaching Score', 'Research Score', 'Citations Score',\n",
    "                         'Industry Income Score', 'International Outlook Score']]\n",
    "\n",
    "# Creating a Lasso model\n",
    "lasso_model = Lasso()\n",
    "\n",
    "# Defining a range of alpha values to search\n",
    "param_grid = {'alpha': [0.01, 0.1, 1, 10, 100]}\n",
    "\n",
    "# Setting up GridSearchCV\n",
    "grid_search = GridSearchCV(lasso_model, param_grid, scoring='neg_mean_absolute_error', cv=5)\n",
    "grid_search.fit(feature_train, y_train.values.ravel())\n",
    "\n",
    "# Get the best hyperparameters\n",
    "best_params = grid_search.best_params_\n",
    "print('Best Hyperparameters:', best_params)\n",
    "\n",
    "# Use the best model\n",
    "best_lasso_model = grid_search.best_estimator_\n",
    "\n",
    "# Making predictions on the testing data\n",
    "test_predictions_lasso = best_lasso_model.predict(feature_test)\n",
    "\n",
    "# Calculating and printing evaluation metrics for training data\n",
    "train_mae_lasso = np.mean(abs(train_predictions_lasso - y_train.values.ravel()))\n",
    "train_rmse_lasso = np.sqrt(np.mean((train_predictions_lasso - y_train.values.ravel()) ** 2))\n",
    "\n",
    "print('Using Optimized Lasso Regression, MAE on training data is %0.2f' % train_mae_lasso)\n",
    "print('Using Optimized Lasso Regression, RMSE on training data is %0.2f' % train_rmse_lasso)\n",
    "\n",
    "# Calculating and printing evaluation metrics for testing data\n",
    "mae_opt_lasso = np.mean(abs(test_predictions_lasso - y_test.values.ravel()))\n",
    "rmse_opt_lasso = np.sqrt(np.mean((test_predictions_lasso - y_test.values.ravel()) ** 2))\n",
    "\n",
    "print('Using Optimized Lasso Regression, MAE on testing data is %0.2f' % mae_opt_lasso)\n",
    "print('Using Optimized Lasso Regression, RMSE on testing data is %0.2f' % rmse_opt_lasso)\n",
    "\n",
    "# Printing model coefficients\n",
    "print('Intercept (Intercept):', best_lasso_model.intercept_)\n",
    "print('Coefficients (w1, w2, w3, w4, w5):', best_lasso_model.coef_)"
   ]
  },
  {
   "cell_type": "markdown",
   "id": "213e411c",
   "metadata": {},
   "source": [
    "The lasso model is the specific form of linear regression with the regulation penalty, which means to simply the model in case it is overfit. In our case, we have adjusted the alpha rate, which controls the function of the regulation penalty. We found that the smaller alpha, the lower errors are. That being said, our model is simple enough and the normal linear regression intends to bring out the lowest MAE and RMSE."
   ]
  },
  {
   "cell_type": "markdown",
   "id": "70211dae",
   "metadata": {},
   "source": [
    "## IV SVR Model"
   ]
  },
  {
   "cell_type": "code",
   "execution_count": 38,
   "id": "c0a98d30-f50c-4d55-aef7-4b507ea869ff",
   "metadata": {
    "tags": []
   },
   "outputs": [
    {
     "name": "stdout",
     "output_type": "stream",
     "text": [
      "Using Support Vector Machine, MAE on training data is 2.39\n",
      "Using Support Vector Machine, RMSE on training data is 3.96\n",
      "Using Support Vector Machine, MAE on testing data is 4.10\n",
      "Using Support Vector Machine, RMSE on testing data is 6.35\n"
     ]
    }
   ],
   "source": [
    "from sklearn.svm import SVR\n",
    "\n",
    "# Selecting features for training\n",
    "feature_train = X_train[['Teaching Score', 'Research Score', 'Citations Score',\n",
    "                         'Industry Income Score', 'International Outlook Score']]\n",
    "\n",
    "# Creating and training a Support Vector Machine regression model\n",
    "svm_model = SVR()\n",
    "svm_model.fit(feature_train, y_train.values.ravel())  # Using .values.ravel() to avoid a warning\n",
    "\n",
    "# Making predictions on the training data\n",
    "train_predictions_svm = svm_model.predict(feature_train)\n",
    "\n",
    "# Calculating and printing evaluation metrics for training data\n",
    "train_mae_svm = np.mean(abs(train_predictions_svm - y_train.values.ravel()))\n",
    "train_rmse_svm = np.sqrt(np.mean((train_predictions_svm - y_train.values.ravel()) ** 2))\n",
    "\n",
    "print('Using Support Vector Machine, MAE on training data is %0.2f' % train_mae_svm)\n",
    "print('Using Support Vector Machine, RMSE on training data is %0.2f' % train_rmse_svm)\n",
    "\n",
    "# Selecting features for testing\n",
    "feature_test = X_test[['Teaching Score', 'Research Score', 'Citations Score',\n",
    "                        'Industry Income Score', 'International Outlook Score']]\n",
    "\n",
    "# Making predictions on the testing data\n",
    "test_predictions_svm = svm_model.predict(feature_test)\n",
    "\n",
    "# Calculating and printing evaluation metrics for testing data\n",
    "mae_svm = np.mean(abs(test_predictions_svm - y_test.values.ravel()))\n",
    "rmse_svm = np.sqrt(np.mean((test_predictions_svm - y_test.values.ravel()) ** 2))\n",
    "\n",
    "print('Using Support Vector Machine, MAE on testing data is %0.2f' % mae_svm)\n",
    "print('Using Support Vector Machine, RMSE on testing data is %0.2f' % rmse_svm)"
   ]
  },
  {
   "cell_type": "code",
   "execution_count": 39,
   "id": "4fb51294",
   "metadata": {},
   "outputs": [
    {
     "name": "stdout",
     "output_type": "stream",
     "text": [
      "Best Hyperparameters: {'C': 600, 'epsilon': 0}\n",
      "Using Optimized Support Vector Machine, MAE on training data is 0.00\n",
      "Using Optimized Support Vector Machine, RMSE on training data is 0.00\n",
      "Using Optimized Support Vector Machine, MAE on testing data is 0.37\n",
      "Using Optimized Support Vector Machine, RMSE on testing data is 0.60\n"
     ]
    }
   ],
   "source": [
    "# Hyperparameter tuning using GridSearchCV\n",
    "from sklearn.model_selection import GridSearchCV\n",
    "from sklearn.svm import SVR\n",
    "\n",
    "param_grid = {'C': [150, 300, 450, 600], 'epsilon': [0, 0.0001, 0.001]}\n",
    "grid_search = GridSearchCV(SVR(), param_grid, scoring='neg_mean_absolute_error', cv=5)\n",
    "grid_search.fit(feature_train, y_train.values.ravel())\n",
    "\n",
    "# Get the best hyperparameters\n",
    "best_params = grid_search.best_params_\n",
    "print('Best Hyperparameters:', best_params)\n",
    "\n",
    "# Use the best model\n",
    "best_svm_model = grid_search.best_estimator_\n",
    "\n",
    "# Making predictions on the testing data using the best model\n",
    "test_predictions_svm = best_svm_model.predict(feature_test)\n",
    "\n",
    "# Calculating and printing evaluation metrics for training data\n",
    "train_predictions_svm = best_svm_model.predict(feature_train)\n",
    "train_mae_svm = np.mean(abs(train_predictions_svm - y_train.values.ravel()))\n",
    "train_rmse_svm = np.sqrt(np.mean((train_predictions_svm - y_train.values.ravel()) ** 2))\n",
    "\n",
    "print('Using Optimized Support Vector Machine, MAE on training data is %0.2f' % train_mae_svm)\n",
    "print('Using Optimized Support Vector Machine, RMSE on training data is %0.2f' % train_rmse_svm)\n",
    "\n",
    "# Calculating and printing evaluation metrics for testing data\n",
    "mae_opt_svm = np.mean(abs(test_predictions_svm - y_test.values.ravel()))\n",
    "rmse_opt_svm = np.sqrt(np.mean((test_predictions_svm - y_test.values.ravel()) ** 2))\n",
    "\n",
    "print('Using Optimized Support Vector Machine, MAE on testing data is %0.2f' % mae_opt_svm)\n",
    "print('Using Optimized Support Vector Machine, RMSE on testing data is %0.2f' % rmse_opt_svm)"
   ]
  },
  {
   "cell_type": "markdown",
   "id": "9d1384c7",
   "metadata": {},
   "source": [
    "This hyperparameters adjustment considers the factors of \"C\" and epsilon. Higher \"C\" generates the smaller-margin hyperline, which allows us to find the hyperline better represent the trend. Epsilon means the penalty associated with errors. Lower epsilon means the lower tolerance of errors. In this sense, the error of predictions greatly decrease and the MAE & RMSE of testing data reaches \"0\". We also believe the MAE & RMSE will continue to decrease according to our several attempts."
   ]
  },
  {
   "cell_type": "markdown",
   "id": "03ea23a8",
   "metadata": {},
   "source": [
    "## V KNeighbors Regression Model"
   ]
  },
  {
   "cell_type": "code",
   "execution_count": 40,
   "id": "4ec247f8-c4dc-49fa-af7f-6319ada9ff94",
   "metadata": {
    "scrolled": true,
    "tags": []
   },
   "outputs": [
    {
     "name": "stdout",
     "output_type": "stream",
     "text": [
      "Using K-Nearest Neighbors, MAE on training data is 1.60\n",
      "Using K-Nearest Neighbors, RMSE on training data is 2.11\n",
      "Using K-Nearest Neighbors, MAE on testing data is 2.31\n",
      "Using K-Nearest Neighbors, RMSE on testing data is 2.69\n"
     ]
    }
   ],
   "source": [
    "from sklearn.neighbors import KNeighborsRegressor\n",
    "\n",
    "# Selecting features for training\n",
    "feature_train = X_train[['Teaching Score', 'Research Score', 'Citations Score',\n",
    "                         'Industry Income Score', 'International Outlook Score']]\n",
    "\n",
    "# Creating and training a K-Nearest Neighbors regression model\n",
    "knn_model = KNeighborsRegressor()\n",
    "knn_model.fit(feature_train, y_train.values.ravel())  # Using .values.ravel() to avoid a warning\n",
    "\n",
    "# Making predictions on the training data\n",
    "train_predictions_knn = knn_model.predict(feature_train)\n",
    "\n",
    "# Calculating and printing evaluation metrics for training data\n",
    "train_mae_knn = np.mean(abs(train_predictions_knn - y_train.values.ravel()))\n",
    "train_rmse_knn = np.sqrt(np.mean((train_predictions_knn - y_train.values.ravel()) ** 2))\n",
    "\n",
    "print('Using K-Nearest Neighbors, MAE on training data is %0.2f' % train_mae_knn)\n",
    "print('Using K-Nearest Neighbors, RMSE on training data is %0.2f' % train_rmse_knn)\n",
    "\n",
    "# Selecting features for testing\n",
    "feature_test = X_test[['Teaching Score', 'Research Score', 'Citations Score',\n",
    "                        'Industry Income Score', 'International Outlook Score']]\n",
    "\n",
    "# Making predictions on the testing data\n",
    "test_predictions_knn = knn_model.predict(feature_test)\n",
    "\n",
    "# Calculating and printing evaluation metrics for testing data\n",
    "mae_knn = np.mean(abs(test_predictions_knn - y_test.values.ravel()))\n",
    "rmse_knn = np.sqrt(np.mean((test_predictions_knn - y_test.values.ravel()) ** 2))\n",
    "\n",
    "print('Using K-Nearest Neighbors, MAE on testing data is %0.2f' % mae_knn)\n",
    "print('Using K-Nearest Neighbors, RMSE on testing data is %0.2f' % rmse_knn)"
   ]
  },
  {
   "cell_type": "code",
   "execution_count": 41,
   "id": "78ad471c",
   "metadata": {},
   "outputs": [
    {
     "name": "stdout",
     "output_type": "stream",
     "text": [
      "Using K-Nearest Neighbors, MAE on training data is 1.57\n",
      "Using K-Nearest Neighbors, RMSE on training data is 2.07\n",
      "Using K-Nearest Neighbors, MAE on testing data is 1.99\n",
      "Using K-Nearest Neighbors, RMSE on testing data is 2.49\n"
     ]
    }
   ],
   "source": [
    "from sklearn.neighbors import KNeighborsRegressor\n",
    "from sklearn.preprocessing import StandardScaler\n",
    "\n",
    "# Selecting features for training\n",
    "feature_train = X_train[['Teaching Score', 'Research Score', 'Citations Score',\n",
    "                         'Industry Income Score', 'International Outlook Score']]\n",
    "feature_test = X_test[['Teaching Score', 'Research Score', 'Citations Score',\n",
    "                        'Industry Income Score', 'International Outlook Score']]\n",
    "\n",
    "# Scale the features\n",
    "scaler = StandardScaler()\n",
    "feature_train_scaled = scaler.fit_transform(feature_train)\n",
    "feature_test_scaled = scaler.transform(feature_test)\n",
    "\n",
    "# Creating and training a K-Nearest Neighbors regression model\n",
    "knn_model = KNeighborsRegressor()\n",
    "knn_model.fit(feature_train_scaled, y_train.values.ravel())\n",
    "\n",
    "# Making predictions on the training data\n",
    "train_predictions_knn = knn_model.predict(feature_train_scaled)\n",
    "\n",
    "# Calculating and printing evaluation metrics for training data\n",
    "train_mae_knn = np.mean(abs(train_predictions_knn - y_train.values.ravel()))\n",
    "train_rmse_knn = np.sqrt(np.mean((train_predictions_knn - y_train.values.ravel()) ** 2))\n",
    "\n",
    "print('Using K-Nearest Neighbors, MAE on training data is %0.2f' % train_mae_knn)\n",
    "print('Using K-Nearest Neighbors, RMSE on training data is %0.2f' % train_rmse_knn)\n",
    "\n",
    "# Making predictions on the testing data\n",
    "test_predictions_knn = knn_model.predict(feature_test_scaled)\n",
    "\n",
    "# Calculating and printing evaluation metrics for testing data\n",
    "mae_knn = np.mean(abs(test_predictions_knn - y_test.values.ravel()))\n",
    "rmse_knn = np.sqrt(np.mean((test_predictions_knn - y_test.values.ravel()) ** 2))\n",
    "\n",
    "print('Using K-Nearest Neighbors, MAE on testing data is %0.2f' % mae_knn)\n",
    "print('Using K-Nearest Neighbors, RMSE on testing data is %0.2f' % rmse_knn)"
   ]
  },
  {
   "cell_type": "code",
   "execution_count": 42,
   "id": "26416133",
   "metadata": {
    "scrolled": true
   },
   "outputs": [
    {
     "name": "stdout",
     "output_type": "stream",
     "text": [
      "Using K-Nearest Neighbors, MAE on training data is 1.57\n",
      "Using K-Nearest Neighbors, RMSE on training data is 2.07\n",
      "Using Random Forest with MinMaxScaler, MAE on testing data is 1.57\n",
      "Using Random Forest with MinMaxScaler, RMSE on testing data is 1.98\n"
     ]
    }
   ],
   "source": [
    "# Import necessary libraries\n",
    "import pandas as pd\n",
    "import numpy as np\n",
    "from sklearn.model_selection import train_test_split\n",
    "from sklearn.ensemble import RandomForestRegressor\n",
    "from sklearn.metrics import mean_absolute_error, mean_squared_error\n",
    "from sklearn.preprocessing import MinMaxScaler\n",
    "\n",
    "# Assume X_train, X_test, y_train, y_test are already defined\n",
    "\n",
    "# Define custom feature ranges\n",
    "custom_ranges = {\n",
    "    'Teaching Score': (0, 92),\n",
    "    'Research Score': (0, 94),\n",
    "    'Citations Score': (0, 49),\n",
    "    'Industry Income Score': (0, 16),\n",
    "    'International Outlook Score': (0, 25)\n",
    "}\n",
    "\n",
    "# Create MinMaxScaler for each feature with custom ranges\n",
    "scalers = {feature: MinMaxScaler(feature_range=range_) for feature, range_ in custom_ranges.items()}\n",
    "\n",
    "# Fit and transform the training features\n",
    "feature_train_scaled = pd.DataFrame({feature: scalers[feature].fit_transform(X_train[[feature]]).ravel()\n",
    "                                     for feature in custom_ranges})\n",
    "\n",
    "# Transform the testing features using the same scalers\n",
    "feature_test_scaled = pd.DataFrame({feature: scalers[feature].transform(X_test[[feature]]).ravel()\n",
    "                                    for feature in custom_ranges})\n",
    "\n",
    "# Selecting features for training\n",
    "feature_train = feature_train_scaled[['Teaching Score', 'Research Score', 'Citations Score',\n",
    "                                      'Industry Income Score', 'International Outlook Score']]\n",
    "\n",
    "# Creating and training a Random Forest regression model\n",
    "rf_model = RandomForestRegressor(random_state=123)\n",
    "rf_model.fit(feature_train, y_train.values.ravel())\n",
    "\n",
    "# Making predictions on the testing data\n",
    "test_predictions_rf = rf_model.predict(feature_test_scaled)\n",
    "\n",
    "# Calculating and printing evaluation metrics for training data\n",
    "train_mae_knn = np.mean(abs(train_predictions_knn - y_train.values.ravel()))\n",
    "train_rmse_knn = np.sqrt(np.mean((train_predictions_knn - y_train.values.ravel()) ** 2))\n",
    "\n",
    "print('Using K-Nearest Neighbors, MAE on training data is %0.2f' % train_mae_knn)\n",
    "print('Using K-Nearest Neighbors, RMSE on training data is %0.2f' % train_rmse_knn)\n",
    "\n",
    "# Calculating and printing evaluation metrics for testing data\n",
    "mae_opt_knn = mean_absolute_error(y_test, test_predictions_rf)\n",
    "rmse_opt_knn = np.sqrt(mean_squared_error(y_test, test_predictions_rf))\n",
    "\n",
    "print('Using Random Forest with MinMaxScaler, MAE on testing data is %0.2f' % mae_opt_knn)\n",
    "print('Using Random Forest with MinMaxScaler, RMSE on testing data is %0.2f' % rmse_opt_knn)"
   ]
  },
  {
   "cell_type": "markdown",
   "id": "a8f4a2e0",
   "metadata": {},
   "source": [
    "KNN model uses the average (or weighted average) value of the nearest data points as the prediction, so the prediction is affected by the weight of the features. We have tried either standard scale or customized scale (based on the correlation to the overall score) to make predictions. We manage to reduce the MAE & RMSE mostly by the customized scale, although the errors rates are still high for both training and testing data. This implies that this model might fit the prediction of our model as each target data value is different, so using the average value of the nearest points as the prediction cannot effectively predict the actual value in either training or testing data."
   ]
  },
  {
   "cell_type": "markdown",
   "id": "53b302f7",
   "metadata": {},
   "source": [
    "## VI Decision Tree Model"
   ]
  },
  {
   "cell_type": "code",
   "execution_count": 43,
   "id": "a970f100-8d38-47e1-94d5-7f966e95275d",
   "metadata": {
    "tags": []
   },
   "outputs": [
    {
     "name": "stdout",
     "output_type": "stream",
     "text": [
      "Using Decision Tree (max_depth=8), MAE on training data is 0.17\n",
      "Using Decision Tree (max_depth=8), RMSE on training data is 0.40\n",
      "Using Decision Tree (max_depth=8), MAE on testing data is 1.91\n",
      "Using Decision Tree (max_depth=8), RMSE on testing data is 2.50\n"
     ]
    }
   ],
   "source": [
    "from sklearn.tree import DecisionTreeRegressor\n",
    "\n",
    "# Selecting features for training\n",
    "feature_train = X_train[['Teaching Score', 'Research Score', 'Citations Score',\n",
    "                         'Industry Income Score', 'International Outlook Score']]\n",
    "\n",
    "# Creating and training a Decision Tree regression model with a specified max_depth\n",
    "max_depth_value = 8  \n",
    "dt_model = DecisionTreeRegressor(max_depth=max_depth_value, random_state=123)\n",
    "dt_model.fit(feature_train, y_train.values.ravel())\n",
    "\n",
    "# Making predictions on the training data\n",
    "train_predictions_dt = dt_model.predict(feature_train)\n",
    "\n",
    "# Calculating and printing evaluation metrics for training data\n",
    "train_mae_dt = np.mean(abs(train_predictions_dt - y_train.values.ravel()))\n",
    "train_rmse_dt = np.sqrt(np.mean((train_predictions_dt - y_train.values.ravel()) ** 2))\n",
    "\n",
    "print(f'Using Decision Tree (max_depth={max_depth_value}), MAE on training data is {train_mae_dt:.2f}')\n",
    "print(f'Using Decision Tree (max_depth={max_depth_value}), RMSE on training data is {train_rmse_dt:.2f}')\n",
    "\n",
    "# Selecting features for testing\n",
    "feature_test = X_test[['Teaching Score', 'Research Score', 'Citations Score',\n",
    "                        'Industry Income Score', 'International Outlook Score']]\n",
    "\n",
    "# Making predictions on the testing data\n",
    "test_predictions_dt = dt_model.predict(feature_test)\n",
    "\n",
    "# Calculating and printing evaluation metrics for testing data\n",
    "mae_dt = np.mean(abs(test_predictions_dt - y_test.values.ravel()))\n",
    "rmse_dt = np.sqrt(np.mean((test_predictions_dt - y_test.values.ravel()) ** 2))\n",
    "\n",
    "print(f'Using Decision Tree (max_depth={max_depth_value}), MAE on testing data is {mae_dt:.2f}')\n",
    "print(f'Using Decision Tree (max_depth={max_depth_value}), RMSE on testing data is {rmse_dt:.2f}')"
   ]
  },
  {
   "cell_type": "code",
   "execution_count": 44,
   "id": "eab45db1",
   "metadata": {
    "scrolled": true
   },
   "outputs": [
    {
     "name": "stdout",
     "output_type": "stream",
     "text": [
      "Best Hyperparameters: {'max_depth': 9, 'max_features': None, 'min_samples_leaf': 2, 'min_samples_split': 2}\n",
      "Using Decision Tree (max_depth=8), MAE on training data is 0.17\n",
      "Using Decision Tree (max_depth=8), RMSE on training data is 0.40\n",
      "Using Best Decision Tree, MAE on testing data is 1.97\n",
      "Using Best Decision Tree, RMSE on testing data is 2.48\n"
     ]
    },
    {
     "name": "stderr",
     "output_type": "stream",
     "text": [
      "C:\\ProgramData\\anaconda3\\Lib\\site-packages\\sklearn\\model_selection\\_validation.py:425: FitFailedWarning: \n",
      "135 fits failed out of a total of 405.\n",
      "The score on these train-test partitions for these parameters will be set to nan.\n",
      "If these failures are not expected, you can try to debug them by setting error_score='raise'.\n",
      "\n",
      "Below are more details about the failures:\n",
      "--------------------------------------------------------------------------------\n",
      "135 fits failed with the following error:\n",
      "Traceback (most recent call last):\n",
      "  File \"C:\\ProgramData\\anaconda3\\Lib\\site-packages\\sklearn\\model_selection\\_validation.py\", line 732, in _fit_and_score\n",
      "    estimator.fit(X_train, y_train, **fit_params)\n",
      "  File \"C:\\ProgramData\\anaconda3\\Lib\\site-packages\\sklearn\\base.py\", line 1144, in wrapper\n",
      "    estimator._validate_params()\n",
      "  File \"C:\\ProgramData\\anaconda3\\Lib\\site-packages\\sklearn\\base.py\", line 637, in _validate_params\n",
      "    validate_parameter_constraints(\n",
      "  File \"C:\\ProgramData\\anaconda3\\Lib\\site-packages\\sklearn\\utils\\_param_validation.py\", line 95, in validate_parameter_constraints\n",
      "    raise InvalidParameterError(\n",
      "sklearn.utils._param_validation.InvalidParameterError: The 'min_samples_split' parameter of DecisionTreeRegressor must be an int in the range [2, inf) or a float in the range (0.0, 1.0]. Got 1 instead.\n",
      "\n",
      "  warnings.warn(some_fits_failed_message, FitFailedWarning)\n",
      "C:\\ProgramData\\anaconda3\\Lib\\site-packages\\sklearn\\model_selection\\_search.py:976: UserWarning: One or more of the test scores are non-finite: [        nan -2.71050612 -2.62518073         nan -2.54450952 -2.54450952\n",
      "         nan -2.53448571 -2.53448571         nan -3.62570357 -3.41623175\n",
      "         nan -3.07676984 -3.07676984         nan -3.92305952 -3.92305952\n",
      "         nan -3.62570357 -3.41623175         nan -3.07676984 -3.07676984\n",
      "         nan -3.92305952 -3.92305952         nan -2.71969841 -2.6141746\n",
      "         nan -2.43453175 -2.43453175         nan -2.54084286 -2.54084286\n",
      "         nan -3.81761905 -3.77129524         nan -3.29455556 -3.29455556\n",
      "         nan -3.92305952 -3.92305952         nan -3.81761905 -3.77129524\n",
      "         nan -3.29455556 -3.29455556         nan -3.92305952 -3.92305952\n",
      "         nan -2.82231746 -2.60476984         nan -2.58114444 -2.58114444\n",
      "         nan -2.54084286 -2.54084286         nan -3.51731746 -3.51234921\n",
      "         nan -3.29455556 -3.29455556         nan -3.92305952 -3.92305952\n",
      "         nan -3.51731746 -3.51234921         nan -3.29455556 -3.29455556\n",
      "         nan -3.92305952 -3.92305952]\n",
      "  warnings.warn(\n"
     ]
    }
   ],
   "source": [
    "from sklearn.model_selection import GridSearchCV\n",
    "\n",
    "# Define the hyperparameter grid\n",
    "param_grid = {\n",
    "    'max_depth': [8, 9, 10],\n",
    "    'min_samples_split': [1, 2, 3],\n",
    "    'min_samples_leaf': [1, 2, 3],\n",
    "    'max_features': [None, 'sqrt', 'log2']\n",
    "}\n",
    "\n",
    "# Create the GridSearchCV object\n",
    "grid_search = GridSearchCV(DecisionTreeRegressor(random_state=123), param_grid, cv=5, scoring='neg_mean_absolute_error')\n",
    "\n",
    "# Fit the grid search to the data\n",
    "grid_search.fit(feature_train, y_train.values.ravel())\n",
    "\n",
    "# Get the best hyperparameters\n",
    "best_params = grid_search.best_params_\n",
    "print('Best Hyperparameters:', best_params)\n",
    "\n",
    "# Use the best model\n",
    "best_dt_model = grid_search.best_estimator_\n",
    "\n",
    "# Making predictions on the testing data\n",
    "test_predictions_best_dt = best_dt_model.predict(feature_test)\n",
    "\n",
    "# Calculating and printing evaluation metrics for training data\n",
    "train_mae_dt = np.mean(abs(train_predictions_dt - y_train.values.ravel()))\n",
    "train_rmse_dt = np.sqrt(np.mean((train_predictions_dt - y_train.values.ravel()) ** 2))\n",
    "\n",
    "print(f'Using Decision Tree (max_depth={max_depth_value}), MAE on training data is {train_mae_dt:.2f}')\n",
    "print(f'Using Decision Tree (max_depth={max_depth_value}), RMSE on training data is {train_rmse_dt:.2f}')\n",
    "\n",
    "# Calculating and printing evaluation metrics for testing data\n",
    "mae_opt_dt = np.mean(abs(test_predictions_best_dt - y_test.values.ravel()))\n",
    "rmse_opt_dt = np.sqrt(np.mean((test_predictions_best_dt - y_test.values.ravel()) ** 2))\n",
    "\n",
    "print(f'Using Best Decision Tree, MAE on testing data is {mae_opt_dt:.2f}')\n",
    "print(f'Using Best Decision Tree, RMSE on testing data is {rmse_opt_dt:.2f}')"
   ]
  },
  {
   "cell_type": "markdown",
   "id": "9e9670be",
   "metadata": {},
   "source": [
    "The hyperparameters adjustment considers the maximum decision tree level, minimum sample splits, minimum sample leaf, and maximum features. With several trails of adjustment, we manage to find the combination of {'max_depth': 9, 'max_features': None, 'min_samples_leaf': 2, 'min_samples_split': 2} to achieve the low errors. However, without defining maximum features, minimum sample leaf or mini sample splits, the maximum depth of 8 brings out the lower error of MAE in testing data. In general, the MAE & RMSE of training data are lower while the results for training data are high. The same explanation is that all label target values of our data set are different, and the decision tree model use only the value from the training data set as the final prediction. Hence, the errors for testing data are high in both MAE and RMSE."
   ]
  },
  {
   "cell_type": "markdown",
   "id": "c7adc3e3-185d-4bb8-b9df-178d94c91c8a",
   "metadata": {},
   "source": [
    "## VII Random Forest Regression Model"
   ]
  },
  {
   "cell_type": "code",
   "execution_count": 45,
   "id": "c800243d-a4bb-4432-95be-20435a2851d5",
   "metadata": {},
   "outputs": [
    {
     "name": "stdout",
     "output_type": "stream",
     "text": [
      "Using Random Forest, MAE on training data is 0.60\n",
      "Using Random Forest, RMSE on training data is 0.79\n",
      "Using Random Forest, MAE on testing data is 1.57\n",
      "Using Random Forest, RMSE on testing data is 1.99\n"
     ]
    }
   ],
   "source": [
    "from sklearn.ensemble import RandomForestRegressor\n",
    "\n",
    "# Selecting features for training\n",
    "feature_train = X_train[['Teaching Score', 'Research Score', 'Citations Score',\n",
    "                         'Industry Income Score', 'International Outlook Score']]\n",
    "\n",
    "# Creating and training a Random Forest regression model\n",
    "rf_model = RandomForestRegressor(random_state=123)\n",
    "rf_model.fit(feature_train, y_train.values.ravel())  # Using .values.ravel() to avoid a warning\n",
    "\n",
    "# Making predictions on the training data\n",
    "train_predictions_rf = rf_model.predict(feature_train)\n",
    "\n",
    "# Calculating and printing evaluation metrics for training data\n",
    "train_mae_rf = np.mean(abs(train_predictions_rf - y_train.values.ravel()))\n",
    "train_rmse_rf = np.sqrt(np.mean((train_predictions_rf - y_train.values.ravel()) ** 2))\n",
    "\n",
    "print('Using Random Forest, MAE on training data is %0.2f' % train_mae_rf)\n",
    "print('Using Random Forest, RMSE on training data is %0.2f' % train_rmse_rf)\n",
    "\n",
    "# Selecting features for testing\n",
    "feature_test = X_test[['Teaching Score', 'Research Score', 'Citations Score',\n",
    "                        'Industry Income Score', 'International Outlook Score']]\n",
    "\n",
    "# Making predictions on the testing data\n",
    "test_predictions_rf = rf_model.predict(feature_test)\n",
    "\n",
    "# Calculating and printing evaluation metrics for testing data\n",
    "mae_rf = np.mean(abs(test_predictions_rf - y_test.values.ravel()))\n",
    "rmse_rf = np.sqrt(np.mean((test_predictions_rf - y_test.values.ravel()) ** 2))\n",
    "\n",
    "print('Using Random Forest, MAE on testing data is %0.2f' % mae_rf)\n",
    "print('Using Random Forest, RMSE on testing data is %0.2f' % rmse_rf)"
   ]
  },
  {
   "cell_type": "code",
   "execution_count": 46,
   "id": "9b103204",
   "metadata": {},
   "outputs": [
    {
     "name": "stdout",
     "output_type": "stream",
     "text": [
      "Best Hyperparameters: {'max_depth': 9, 'min_samples_leaf': 1, 'min_samples_split': 2, 'n_estimators': 44}\n",
      "Using Optimized Random Forest, MAE on training data is 0.60\n",
      "Using Optimized Random Forest, RMSE on training data is 0.79\n",
      "Using Optimized Random Forest, MAE on testing data is 1.56\n",
      "Using Optimized Random Forest, RMSE on testing data is 1.99\n"
     ]
    },
    {
     "name": "stderr",
     "output_type": "stream",
     "text": [
      "C:\\ProgramData\\anaconda3\\Lib\\site-packages\\sklearn\\model_selection\\_validation.py:425: FitFailedWarning: \n",
      "225 fits failed out of a total of 405.\n",
      "The score on these train-test partitions for these parameters will be set to nan.\n",
      "If these failures are not expected, you can try to debug them by setting error_score='raise'.\n",
      "\n",
      "Below are more details about the failures:\n",
      "--------------------------------------------------------------------------------\n",
      "135 fits failed with the following error:\n",
      "Traceback (most recent call last):\n",
      "  File \"C:\\ProgramData\\anaconda3\\Lib\\site-packages\\sklearn\\model_selection\\_validation.py\", line 732, in _fit_and_score\n",
      "    estimator.fit(X_train, y_train, **fit_params)\n",
      "  File \"C:\\ProgramData\\anaconda3\\Lib\\site-packages\\sklearn\\base.py\", line 1144, in wrapper\n",
      "    estimator._validate_params()\n",
      "  File \"C:\\ProgramData\\anaconda3\\Lib\\site-packages\\sklearn\\base.py\", line 637, in _validate_params\n",
      "    validate_parameter_constraints(\n",
      "  File \"C:\\ProgramData\\anaconda3\\Lib\\site-packages\\sklearn\\utils\\_param_validation.py\", line 95, in validate_parameter_constraints\n",
      "    raise InvalidParameterError(\n",
      "sklearn.utils._param_validation.InvalidParameterError: The 'min_samples_leaf' parameter of RandomForestRegressor must be an int in the range [1, inf) or a float in the range (0.0, 1.0). Got 0 instead.\n",
      "\n",
      "--------------------------------------------------------------------------------\n",
      "90 fits failed with the following error:\n",
      "Traceback (most recent call last):\n",
      "  File \"C:\\ProgramData\\anaconda3\\Lib\\site-packages\\sklearn\\model_selection\\_validation.py\", line 732, in _fit_and_score\n",
      "    estimator.fit(X_train, y_train, **fit_params)\n",
      "  File \"C:\\ProgramData\\anaconda3\\Lib\\site-packages\\sklearn\\base.py\", line 1144, in wrapper\n",
      "    estimator._validate_params()\n",
      "  File \"C:\\ProgramData\\anaconda3\\Lib\\site-packages\\sklearn\\base.py\", line 637, in _validate_params\n",
      "    validate_parameter_constraints(\n",
      "  File \"C:\\ProgramData\\anaconda3\\Lib\\site-packages\\sklearn\\utils\\_param_validation.py\", line 95, in validate_parameter_constraints\n",
      "    raise InvalidParameterError(\n",
      "sklearn.utils._param_validation.InvalidParameterError: The 'min_samples_split' parameter of RandomForestRegressor must be an int in the range [2, inf) or a float in the range (0.0, 1.0]. Got 1 instead.\n",
      "\n",
      "  warnings.warn(some_fits_failed_message, FitFailedWarning)\n",
      "C:\\ProgramData\\anaconda3\\Lib\\site-packages\\sklearn\\model_selection\\_search.py:976: UserWarning: One or more of the test scores are non-finite: [        nan         nan         nan         nan         nan         nan\n",
      "         nan         nan         nan         nan         nan         nan\n",
      " -1.89608624 -1.89873423 -1.9028357  -1.89315026 -1.89005691 -1.8953677\n",
      "         nan         nan         nan -1.95377069 -1.95537969 -1.95472963\n",
      " -1.95377069 -1.95537969 -1.95472963         nan         nan         nan\n",
      "         nan         nan         nan         nan         nan         nan\n",
      "         nan         nan         nan -1.87765285 -1.87672278 -1.88232058\n",
      " -1.92206089 -1.92649347 -1.92641894         nan         nan         nan\n",
      " -1.93378497 -1.9364318  -1.93621911 -1.93378497 -1.9364318  -1.93621911\n",
      "         nan         nan         nan         nan         nan         nan\n",
      "         nan         nan         nan         nan         nan         nan\n",
      " -1.88737786 -1.88230469 -1.88838963 -1.9110478  -1.90791373 -1.90533602\n",
      "         nan         nan         nan -1.93638032 -1.93896816 -1.93869911\n",
      " -1.93638032 -1.93896816 -1.93869911]\n",
      "  warnings.warn(\n"
     ]
    }
   ],
   "source": [
    "from sklearn.model_selection import GridSearchCV\n",
    "\n",
    "# Define the hyperparameter grid\n",
    "param_grid = {\n",
    "    'n_estimators': [43, 44, 45],\n",
    "    'max_depth': [8, 9, 10],\n",
    "    'min_samples_split': [1, 2, 3],\n",
    "    'min_samples_leaf': [0, 1, 2]\n",
    "}\n",
    "\n",
    "# Create the GridSearchCV object\n",
    "grid_search = GridSearchCV(RandomForestRegressor(random_state=123), param_grid, cv=5, scoring='neg_mean_absolute_error')\n",
    "\n",
    "# Fit the model to the data\n",
    "grid_search.fit(feature_train, y_train.values.ravel())\n",
    "\n",
    "# Get the best hyperparameters\n",
    "best_params = grid_search.best_params_\n",
    "print('Best Hyperparameters:', best_params)\n",
    "\n",
    "# Use the best model for predictions\n",
    "best_rf_model = grid_search.best_estimator_\n",
    "test_predictions_best_rf = best_rf_model.predict(feature_test)\n",
    "\n",
    "# Calculating and printing evaluation metrics for training data\n",
    "train_mae_rf = np.mean(abs(train_predictions_rf - y_train.values.ravel()))\n",
    "train_rmse_rf = np.sqrt(np.mean((train_predictions_rf - y_train.values.ravel()) ** 2))\n",
    "\n",
    "print('Using Optimized Random Forest, MAE on training data is %0.2f' % train_mae_rf)\n",
    "print('Using Optimized Random Forest, RMSE on training data is %0.2f' % train_rmse_rf)\n",
    "\n",
    "# Calculate and print evaluation metrics for testing data\n",
    "mae_opt_rf = np.mean(abs(test_predictions_best_rf - y_test.values.ravel()))\n",
    "rmse_opt_rf = np.sqrt(np.mean((test_predictions_best_rf - y_test.values.ravel()) ** 2))\n",
    "\n",
    "print('Using Optimized Random Forest, MAE on testing data is %0.2f' % mae_opt_rf)\n",
    "print('Using Optimized Random Forest, RMSE on testing data is %0.2f' % rmse_opt_rf)"
   ]
  },
  {
   "cell_type": "markdown",
   "id": "6366d248",
   "metadata": {},
   "source": [
    "This hyperparameters adjustment considers the four factors: number of decision trees, maximum decision tree depths, minimum sample splits, and mimimum sample leaf. After several trails of attempt, we found the combination of {'max_depth': 9, 'min_samples_leaf': 1, 'min_samples_split': 2, 'n_estimators': 44} can achieve the higher prediction and reduce the MAE error of testing data by addressing issues like overfitting, although the effect is not so obvious. Our assumption is that the university ranking data strictly follow linear relationship from low to high. In other words, each label data has different value. Decision model can only cover the label data in the training dataset, so the error is lower. In contrast, the target label value of the testing dataset are not included at all, so the error is high and almost impossible to reduce. "
   ]
  },
  {
   "cell_type": "markdown",
   "id": "ead364e7",
   "metadata": {},
   "source": [
    "## VIII Gradient Boosting Regression Model"
   ]
  },
  {
   "cell_type": "code",
   "execution_count": 47,
   "id": "6ba440e5-965a-4d70-872d-cc354602a99d",
   "metadata": {
    "tags": []
   },
   "outputs": [
    {
     "name": "stdout",
     "output_type": "stream",
     "text": [
      "Using Gradient Boosting, MAE on training data is 0.14\n",
      "Using Gradient Boosting, RMSE on training data is 0.18\n",
      "Using Gradient Boosting, MAE on testing data is 1.10\n",
      "Using Gradient Boosting, RMSE on testing data is 1.50\n"
     ]
    }
   ],
   "source": [
    "from sklearn.ensemble import GradientBoostingRegressor\n",
    "\n",
    "# Selecting features for training\n",
    "feature_train = X_train[['Teaching Score', 'Research Score', 'Citations Score',\n",
    "                         'Industry Income Score', 'International Outlook Score']]\n",
    "\n",
    "# Creating and training a Gradient Boosting regression model\n",
    "gb_model = GradientBoostingRegressor(random_state=123)\n",
    "gb_model.fit(feature_train, y_train.values.ravel())  # Using .values.ravel() to avoid a warning\n",
    "\n",
    "# Making predictions on the training data\n",
    "train_predictions_gb = gb_model.predict(feature_train)\n",
    "\n",
    "# Calculating and printing evaluation metrics for training data\n",
    "train_mae_gb = np.mean(abs(train_predictions_gb - y_train.values.ravel()))\n",
    "train_rmse_gb = np.sqrt(np.mean((train_predictions_gb - y_train.values.ravel()) ** 2))\n",
    "\n",
    "print('Using Gradient Boosting, MAE on training data is %0.2f' % train_mae_gb)\n",
    "print('Using Gradient Boosting, RMSE on training data is %0.2f' % train_rmse_gb)\n",
    "\n",
    "# Selecting features for testing\n",
    "feature_test = X_test[['Teaching Score', 'Research Score', 'Citations Score',\n",
    "                        'Industry Income Score', 'International Outlook Score']]\n",
    "\n",
    "# Making predictions on the testing data\n",
    "test_predictions_gb = gb_model.predict(feature_test)\n",
    "\n",
    "# Calculating and printing evaluation metrics for testing data\n",
    "mae_gb = np.mean(abs(test_predictions_gb - y_test.values.ravel()))\n",
    "rmse_gb = np.sqrt(np.mean((test_predictions_gb - y_test.values.ravel()) ** 2))\n",
    "\n",
    "print('Using Gradient Boosting, MAE on testing data is %0.2f' % mae_gb)\n",
    "print('Using Gradient Boosting, RMSE on testing data is %0.2f' % rmse_gb)"
   ]
  },
  {
   "cell_type": "code",
   "execution_count": 48,
   "id": "8f0f9f97",
   "metadata": {},
   "outputs": [
    {
     "name": "stdout",
     "output_type": "stream",
     "text": [
      "Best Hyperparameters: {'learning_rate': 0.2, 'max_depth': 1, 'min_samples_leaf': 2, 'min_samples_split': 3, 'n_estimators': 2940}\n",
      "Using Gradient Boosting, MAE on training data is 0.14\n",
      "Using Gradient Boosting, RMSE on training data is 0.18\n",
      "Using Optimized Gradient Boosting, MAE on testing data is 1.02\n",
      "Using Optimized Gradient Boosting, RMSE on testing data is 1.36\n"
     ]
    }
   ],
   "source": [
    "from sklearn.ensemble import GradientBoostingRegressor\n",
    "from sklearn.model_selection import GridSearchCV\n",
    "\n",
    "# Define the hyperparameter grid\n",
    "param_grid = {\n",
    "    'n_estimators': [2940, 2950],\n",
    "    'learning_rate': [0.2],\n",
    "    'max_depth': [1],\n",
    "    'min_samples_split': [3],\n",
    "    'min_samples_leaf': [2]\n",
    "}\n",
    "\n",
    "# Create the Gradient Boosting regressor\n",
    "gb_model = GradientBoostingRegressor(random_state=123)\n",
    "\n",
    "# Instantiate GridSearchCV\n",
    "grid_search = GridSearchCV(gb_model, param_grid, scoring='neg_mean_absolute_error', cv=5)\n",
    "\n",
    "# Fit the grid search to the data\n",
    "grid_search.fit(feature_train, y_train.values.ravel())\n",
    "\n",
    "# Get the best hyperparameters\n",
    "best_params = grid_search.best_params_\n",
    "print('Best Hyperparameters:', best_params)\n",
    "\n",
    "# Use the best model\n",
    "best_gb_model = grid_search.best_estimator_\n",
    "\n",
    "# Making predictions on the testing data\n",
    "test_predictions_gb = best_gb_model.predict(feature_test)\n",
    "\n",
    "# Calculating and printing evaluation metrics for training data\n",
    "train_mae_gb = np.mean(abs(train_predictions_gb - y_train.values.ravel()))\n",
    "train_rmse_gb = np.sqrt(np.mean((train_predictions_gb - y_train.values.ravel()) ** 2))\n",
    "\n",
    "print('Using Gradient Boosting, MAE on training data is %0.2f' % train_mae_gb)\n",
    "print('Using Gradient Boosting, RMSE on training data is %0.2f' % train_rmse_gb)\n",
    "\n",
    "# Calculating and printing evaluation metrics for testing data\n",
    "mae_opt_gb = np.mean(abs(test_predictions_gb - y_test.values.ravel()))\n",
    "rmse_opt_gb = np.sqrt(np.mean((test_predictions_gb - y_test.values.ravel()) ** 2))\n",
    "\n",
    "print('Using Optimized Gradient Boosting, MAE on testing data is %0.2f' % mae_opt_gb)\n",
    "print('Using Optimized Gradient Boosting, RMSE on testing data is %0.2f' % rmse_opt_gb)"
   ]
  },
  {
   "cell_type": "markdown",
   "id": "aced62b3",
   "metadata": {},
   "source": [
    "The hyperparameters adjustment includes the number of decision trees, maximum decision tree depths, minimum sample splits, mimimum sample leaf, and learning rate. Through several attempts, we realize that the combination of {'learning_rate': 0.2, 'max_depth': 1, 'min_samples_leaf': 2, 'min_samples_split': 3, 'n_estimators': 2940} can optimize the performance of this model.\n",
    "Although decision tree model is not able to make accurate predictions for our dataset, the upgraded model of Random Forest and Gradient Boosting Regression effectively reduce the MAE and RMSE errors, especially the Gradient Boosting Regression. We believe this model focuses on learning from the wrong predictions, which reduce the MAE and RMSE errors while Random Forest does not have this function."
   ]
  },
  {
   "cell_type": "code",
   "execution_count": 49,
   "id": "cba7e645",
   "metadata": {},
   "outputs": [
    {
     "data": {
      "image/png": "[encoded data removed]",
      "text/plain": [
       "<Figure size 1200x600 with 1 Axes>"
      ]
     },
     "metadata": {},
     "output_type": "display_data"
    },
    {
     "data": {
      "image/png": "[encoded data removed]",
      "text/plain": [
       "<Figure size 1200x600 with 1 Axes>"
      ]
     },
     "metadata": {},
     "output_type": "display_data"
    }
   ],
   "source": [
    "import matplotlib.pyplot as plt\n",
    "import numpy as np\n",
    "\n",
    "# Model names\n",
    "models = ['Linear Regression', 'Lasso Regression', 'SVM', 'KNN', 'Decision Tree', 'Random Forest', 'Gradient Boosting']\n",
    "\n",
    "# Corresponding MAE and RMSE values for testing data\n",
    "mae_values = [mae, mae_opt_lasso, mae_opt_svm, mae_opt_knn, mae_opt_dt, mae_opt_rf, mae_opt_gb]\n",
    "rmse_values = [rmse, rmse_opt_lasso, rmse_opt_svm, rmse_opt_knn, rmse_opt_dt, rmse_opt_rf, rmse_opt_gb]\n",
    "\n",
    "# Convert the values to numpy arrays\n",
    "mae_values = np.array([float(val) for val in mae_values])\n",
    "rmse_values = np.array([float(val) for val in rmse_values])\n",
    "\n",
    "# Plotting MAE\n",
    "plt.figure(figsize=(12, 6))\n",
    "plt.bar(models, mae_values, color='blue')\n",
    "plt.xlabel('Models')\n",
    "plt.ylabel('MAE')\n",
    "plt.title('MAE for Different Regression Models')\n",
    "plt.xticks(rotation=45, ha='right')\n",
    "plt.show()\n",
    "\n",
    "# Plotting RMSE\n",
    "plt.figure(figsize=(12, 6))\n",
    "plt.bar(models, rmse_values, color='green')\n",
    "plt.xlabel('Models')\n",
    "plt.ylabel('RMSE')\n",
    "plt.title('RMSE for Different Regression Models')\n",
    "plt.xticks(rotation=45, ha='right')\n",
    "plt.show()"
   ]
  },
  {
   "cell_type": "code",
   "execution_count": 50,
   "id": "cd48c369",
   "metadata": {},
   "outputs": [
    {
     "data": {
      "image/png": "[encoded data removed]",
      "text/plain": [
       "<Figure size 1200x600 with 1 Axes>"
      ]
     },
     "metadata": {},
     "output_type": "display_data"
    },
    {
     "data": {
      "image/png": "[encoded data removed]",
      "text/plain": [
       "<Figure size 1200x600 with 1 Axes>"
      ]
     },
     "metadata": {},
     "output_type": "display_data"
    },
    {
     "data": {
      "image/png": "[encoded data removed]",
      "text/plain": [
       "<Figure size 1200x600 with 1 Axes>"
      ]
     },
     "metadata": {},
     "output_type": "display_data"
    },
    {
     "data": {
      "image/png": "[encoded data removed]",
      "text/plain": [
       "<Figure size 1000x800 with 1 Axes>"
      ]
     },
     "metadata": {},
     "output_type": "display_data"
    }
   ],
   "source": [
    "import matplotlib.pyplot as plt\n",
    "import numpy as np\n",
    "\n",
    "# Model names\n",
    "models = ['Linear Regression', 'Lasso Regression', 'SVM', 'KNN', 'Decision Tree', 'Random Forest', 'Gradient Boosting']\n",
    "\n",
    "# Corresponding MAE and RMSE values for testing data\n",
    "mae_values = [mae, mae_opt_lasso, mae_opt_svm, mae_opt_knn, mae_opt_dt, mae_opt_rf, mae_opt_gb]\n",
    "rmse_values = [rmse, rmse_opt_lasso, rmse_opt_svm, rmse_opt_knn, rmse_opt_dt, rmse_opt_rf, rmse_opt_gb]\n",
    "\n",
    "# Convert the values to numpy arrays\n",
    "mae_values = np.array([float(val) for val in mae_values])\n",
    "rmse_values = np.array([float(val) for val in rmse_values])\n",
    "\n",
    "# Boxplot for MAE\n",
    "plt.figure(figsize=(12, 6))\n",
    "plt.boxplot([mae_values], labels=['MAE'])\n",
    "plt.ylabel('MAE')\n",
    "plt.title('MAE Distribution for Different Regression Models')\n",
    "plt.show()\n",
    "\n",
    "# Boxplot for RMSE\n",
    "plt.figure(figsize=(12, 6))\n",
    "plt.boxplot([rmse_values], labels=['RMSE'])\n",
    "plt.ylabel('RMSE')\n",
    "plt.title('RMSE Distribution for Different Regression Models')\n",
    "plt.show()\n",
    "\n",
    "# Side-by-Side Bar Plots for MAE and RMSE\n",
    "bar_width = 0.35\n",
    "index = np.arange(len(models))\n",
    "\n",
    "plt.figure(figsize=(12, 6))\n",
    "plt.bar(index, mae_values, color='blue', width=bar_width, label='MAE')\n",
    "plt.bar(index + bar_width, rmse_values, color='green', width=bar_width, label='RMSE')\n",
    "plt.xlabel('Models')\n",
    "plt.ylabel('Metrics')\n",
    "plt.title('MAE and RMSE for Different Regression Models')\n",
    "plt.xticks(index + bar_width/2, models, rotation=45, ha='right')\n",
    "plt.legend()\n",
    "plt.show()\n",
    "\n",
    "# Scatter Plot for MAE vs. RMSE\n",
    "plt.figure(figsize=(10, 8))\n",
    "plt.scatter(mae_values, rmse_values, c='blue', marker='o', alpha=0.8)\n",
    "plt.xlabel('MAE')\n",
    "plt.ylabel('RMSE')\n",
    "plt.title('MAE vs. RMSE for Different Regression Models')\n",
    "for i, model in enumerate(models):\n",
    "    plt.annotate(model, (mae_values[i], rmse_values[i]), textcoords=\"offset points\", xytext=(0,5), ha='center')\n",
    "plt.show()"
   ]
  },
  {
   "cell_type": "markdown",
   "id": "6593d7fe",
   "metadata": {},
   "source": [
    "In conclusion, based on the characteristic of our data, which is small size, simple, linear relationship, and different values of the target labels. The linear regression model or the SVR are the best models for our case. Lasso is not helpful in our dataset as the data is quite simple already. The KNN and decision tree models do not work so well because they use existing training data value as the predictions, although the Gradient Boosting Regression Model can reduce the MAE and RMSE errors because it focuses on learning from the wrong predictions."
   ]
  }
 ],
 "metadata": {
  "kernelspec": {
   "display_name": "Python 3 (ipykernel)",
   "language": "python",
   "name": "python3"
  },
  "language_info": {
   "codemirror_mode": {
    "name": "ipython",
    "version": 3
   },
   "file_extension": ".py",
   "mimetype": "text/x-python",
   "name": "python",
   "nbconvert_exporter": "python",
   "pygments_lexer": "ipython3",
   "version": "3.11.4"
  }
 },
 "nbformat": 4,
 "nbformat_minor": 5
}
